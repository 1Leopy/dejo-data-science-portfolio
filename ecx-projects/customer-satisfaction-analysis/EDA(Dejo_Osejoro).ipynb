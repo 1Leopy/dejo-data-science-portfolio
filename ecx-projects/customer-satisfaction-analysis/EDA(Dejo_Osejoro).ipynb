{
  "cells": [
    {
      "cell_type": "code",
      "execution_count": null,
      "id": "baf6970b-7587-4b24-90fe-58c0e9969d0e",
      "metadata": {
        "id": "baf6970b-7587-4b24-90fe-58c0e9969d0e"
      },
      "outputs": [],
      "source": [
        "#Importing the required libraries\n",
        "import pandas as pd\n",
        "import numpy as np\n",
        "\n",
        "import matplotlib.pyplot as plt\n",
        "import seaborn as sns\n",
        "\n",
        "import warnings\n",
        "warnings.filterwarnings('ignore')"
      ]
    },
    {
      "cell_type": "code",
      "execution_count": null,
      "id": "21127746-9b07-4909-8b20-34a6f5aa907a",
      "metadata": {
        "id": "21127746-9b07-4909-8b20-34a6f5aa907a"
      },
      "outputs": [],
      "source": [
        "df = pd.read_csv(\"Dejo Osejoro - E-commerce_Dataset.csv\")"
      ]
    },
    {
      "cell_type": "code",
      "execution_count": null,
      "id": "c379e303-1bfe-41d4-9fc1-fc546ba51a00",
      "metadata": {
        "id": "c379e303-1bfe-41d4-9fc1-fc546ba51a00",
        "outputId": "47775cc0-2802-4903-bca5-2a5d6c4c5ca8"
      },
      "outputs": [
        {
          "name": "stdout",
          "output_type": "stream",
          "text": [
            "Shape Of The DataFrame\n"
          ]
        },
        {
          "data": {
            "text/plain": [
              "(500, 12)"
            ]
          },
          "execution_count": 1014,
          "metadata": {},
          "output_type": "execute_result"
        }
      ],
      "source": [
        "print(\"Shape Of The DataFrame\")\n",
        "df.shape"
      ]
    },
    {
      "cell_type": "code",
      "execution_count": null,
      "id": "bdbd4b5b-3a1d-4933-b563-2cac8e2ec8d8",
      "metadata": {
        "id": "bdbd4b5b-3a1d-4933-b563-2cac8e2ec8d8",
        "outputId": "82a830d9-4672-4c7a-b5c2-d984c49dd368"
      },
      "outputs": [
        {
          "data": {
            "text/html": [
              "<div>\n",
              "<style scoped>\n",
              "    .dataframe tbody tr th:only-of-type {\n",
              "        vertical-align: middle;\n",
              "    }\n",
              "\n",
              "    .dataframe tbody tr th {\n",
              "        vertical-align: top;\n",
              "    }\n",
              "\n",
              "    .dataframe thead th {\n",
              "        text-align: right;\n",
              "    }\n",
              "</style>\n",
              "<table border=\"1\" class=\"dataframe\">\n",
              "  <thead>\n",
              "    <tr style=\"text-align: right;\">\n",
              "      <th></th>\n",
              "      <th>CustomerID</th>\n",
              "      <th>Age</th>\n",
              "      <th>Gender</th>\n",
              "      <th>PurchaseAmount</th>\n",
              "      <th>PurchaseFrequency</th>\n",
              "      <th>ProductQualityRating</th>\n",
              "      <th>DeliveryTimeRating</th>\n",
              "      <th>CustomerServiceRating</th>\n",
              "      <th>WebsiteEaseOfUseRating</th>\n",
              "      <th>ReturnRate</th>\n",
              "      <th>DiscountUsage</th>\n",
              "      <th>LoyaltyProgramMember</th>\n",
              "    </tr>\n",
              "  </thead>\n",
              "  <tbody>\n",
              "    <tr>\n",
              "      <th>0</th>\n",
              "      <td>1</td>\n",
              "      <td>38</td>\n",
              "      <td>Female</td>\n",
              "      <td>749.097626</td>\n",
              "      <td>24</td>\n",
              "      <td>2</td>\n",
              "      <td>1</td>\n",
              "      <td>3</td>\n",
              "      <td>5</td>\n",
              "      <td>0.12</td>\n",
              "      <td>135.392573</td>\n",
              "      <td>No</td>\n",
              "    </tr>\n",
              "    <tr>\n",
              "      <th>1</th>\n",
              "      <td>2</td>\n",
              "      <td>30</td>\n",
              "      <td>Male</td>\n",
              "      <td>735.224916</td>\n",
              "      <td>18</td>\n",
              "      <td>5</td>\n",
              "      <td>4</td>\n",
              "      <td>4</td>\n",
              "      <td>5</td>\n",
              "      <td>0.37</td>\n",
              "      <td>193.450663</td>\n",
              "      <td>Yes</td>\n",
              "    </tr>\n",
              "    <tr>\n",
              "      <th>2</th>\n",
              "      <td>3</td>\n",
              "      <td>55</td>\n",
              "      <td>Male</td>\n",
              "      <td>1145.520305</td>\n",
              "      <td>22</td>\n",
              "      <td>3</td>\n",
              "      <td>5</td>\n",
              "      <td>4</td>\n",
              "      <td>1</td>\n",
              "      <td>0.10</td>\n",
              "      <td>147.246263</td>\n",
              "      <td>Yes</td>\n",
              "    </tr>\n",
              "    <tr>\n",
              "      <th>3</th>\n",
              "      <td>4</td>\n",
              "      <td>39</td>\n",
              "      <td>Female</td>\n",
              "      <td>925.460535</td>\n",
              "      <td>14</td>\n",
              "      <td>4</td>\n",
              "      <td>3</td>\n",
              "      <td>2</td>\n",
              "      <td>4</td>\n",
              "      <td>0.38</td>\n",
              "      <td>56.362894</td>\n",
              "      <td>Yes</td>\n",
              "    </tr>\n",
              "    <tr>\n",
              "      <th>4</th>\n",
              "      <td>5</td>\n",
              "      <td>51</td>\n",
              "      <td>Male</td>\n",
              "      <td>108.359916</td>\n",
              "      <td>9</td>\n",
              "      <td>3</td>\n",
              "      <td>3</td>\n",
              "      <td>2</td>\n",
              "      <td>5</td>\n",
              "      <td>0.42</td>\n",
              "      <td>338.731055</td>\n",
              "      <td>No</td>\n",
              "    </tr>\n",
              "  </tbody>\n",
              "</table>\n",
              "</div>"
            ],
            "text/plain": [
              "   CustomerID  Age  Gender  PurchaseAmount  PurchaseFrequency  \\\n",
              "0           1   38  Female      749.097626                 24   \n",
              "1           2   30    Male      735.224916                 18   \n",
              "2           3   55    Male     1145.520305                 22   \n",
              "3           4   39  Female      925.460535                 14   \n",
              "4           5   51    Male      108.359916                  9   \n",
              "\n",
              "   ProductQualityRating  DeliveryTimeRating  CustomerServiceRating  \\\n",
              "0                     2                   1                      3   \n",
              "1                     5                   4                      4   \n",
              "2                     3                   5                      4   \n",
              "3                     4                   3                      2   \n",
              "4                     3                   3                      2   \n",
              "\n",
              "   WebsiteEaseOfUseRating  ReturnRate  DiscountUsage LoyaltyProgramMember  \n",
              "0                       5        0.12     135.392573                   No  \n",
              "1                       5        0.37     193.450663                  Yes  \n",
              "2                       1        0.10     147.246263                  Yes  \n",
              "3                       4        0.38      56.362894                  Yes  \n",
              "4                       5        0.42     338.731055                   No  "
            ]
          },
          "execution_count": 1015,
          "metadata": {},
          "output_type": "execute_result"
        }
      ],
      "source": [
        "df.head()"
      ]
    },
    {
      "cell_type": "code",
      "execution_count": null,
      "id": "74311a87-ee59-43ab-97bb-54486b95425b",
      "metadata": {
        "id": "74311a87-ee59-43ab-97bb-54486b95425b",
        "outputId": "3fbb572d-9c52-42a6-d56c-72754c24de01"
      },
      "outputs": [
        {
          "name": "stdout",
          "output_type": "stream",
          "text": [
            "<class 'pandas.core.frame.DataFrame'>\n",
            "RangeIndex: 500 entries, 0 to 499\n",
            "Data columns (total 12 columns):\n",
            " #   Column                  Non-Null Count  Dtype  \n",
            "---  ------                  --------------  -----  \n",
            " 0   CustomerID              500 non-null    int64  \n",
            " 1   Age                     500 non-null    int64  \n",
            " 2   Gender                  500 non-null    object \n",
            " 3   PurchaseAmount          500 non-null    float64\n",
            " 4   PurchaseFrequency       500 non-null    int64  \n",
            " 5   ProductQualityRating    500 non-null    int64  \n",
            " 6   DeliveryTimeRating      500 non-null    int64  \n",
            " 7   CustomerServiceRating   500 non-null    int64  \n",
            " 8   WebsiteEaseOfUseRating  500 non-null    int64  \n",
            " 9   ReturnRate              500 non-null    float64\n",
            " 10  DiscountUsage           500 non-null    float64\n",
            " 11  LoyaltyProgramMember    500 non-null    object \n",
            "dtypes: float64(3), int64(7), object(2)\n",
            "memory usage: 47.0+ KB\n"
          ]
        }
      ],
      "source": [
        "# A little research on understanding the data structure and type.\n",
        "df.info()"
      ]
    },
    {
      "cell_type": "code",
      "execution_count": null,
      "id": "930432c2-9717-43cc-82dc-9e0022f7fb91",
      "metadata": {
        "id": "930432c2-9717-43cc-82dc-9e0022f7fb91",
        "outputId": "6b9534ab-60ca-46c9-efa6-ee0f97e1f6a8"
      },
      "outputs": [
        {
          "data": {
            "text/plain": [
              "np.int64(0)"
            ]
          },
          "execution_count": 1017,
          "metadata": {},
          "output_type": "execute_result"
        }
      ],
      "source": [
        "#Checking for possible duplicates\n",
        "df.duplicated().sum()"
      ]
    },
    {
      "cell_type": "code",
      "execution_count": null,
      "id": "a742a376-2ca7-4611-bc62-a5a228a6f50d",
      "metadata": {
        "id": "a742a376-2ca7-4611-bc62-a5a228a6f50d",
        "outputId": "db57d6e7-02ca-417e-95c2-d83c94d5b808"
      },
      "outputs": [
        {
          "data": {
            "text/plain": [
              "CustomerID                0\n",
              "Age                       0\n",
              "Gender                    0\n",
              "PurchaseAmount            0\n",
              "PurchaseFrequency         0\n",
              "ProductQualityRating      0\n",
              "DeliveryTimeRating        0\n",
              "CustomerServiceRating     0\n",
              "WebsiteEaseOfUseRating    0\n",
              "ReturnRate                0\n",
              "DiscountUsage             0\n",
              "LoyaltyProgramMember      0\n",
              "dtype: int64"
            ]
          },
          "execution_count": 1018,
          "metadata": {},
          "output_type": "execute_result"
        }
      ],
      "source": [
        "# Checking for null values - P.S : I already know there are no null values from the .info() output but anyways.\n",
        "df.isnull().sum()"
      ]
    },
    {
      "cell_type": "code",
      "execution_count": null,
      "id": "f9c6d92f-b79e-4655-af73-1fc41492fbb3",
      "metadata": {
        "id": "f9c6d92f-b79e-4655-af73-1fc41492fbb3",
        "outputId": "e44ed042-03bb-4177-d64e-d90001b9cfdd"
      },
      "outputs": [
        {
          "data": {
            "text/html": [
              "<div>\n",
              "<style scoped>\n",
              "    .dataframe tbody tr th:only-of-type {\n",
              "        vertical-align: middle;\n",
              "    }\n",
              "\n",
              "    .dataframe tbody tr th {\n",
              "        vertical-align: top;\n",
              "    }\n",
              "\n",
              "    .dataframe thead th {\n",
              "        text-align: right;\n",
              "    }\n",
              "</style>\n",
              "<table border=\"1\" class=\"dataframe\">\n",
              "  <thead>\n",
              "    <tr style=\"text-align: right;\">\n",
              "      <th></th>\n",
              "      <th>CustomerID</th>\n",
              "      <th>Age</th>\n",
              "      <th>PurchaseAmount</th>\n",
              "      <th>PurchaseFrequency</th>\n",
              "      <th>ProductQualityRating</th>\n",
              "      <th>DeliveryTimeRating</th>\n",
              "      <th>CustomerServiceRating</th>\n",
              "      <th>WebsiteEaseOfUseRating</th>\n",
              "      <th>ReturnRate</th>\n",
              "      <th>DiscountUsage</th>\n",
              "    </tr>\n",
              "  </thead>\n",
              "  <tbody>\n",
              "    <tr>\n",
              "      <th>count</th>\n",
              "      <td>500.000000</td>\n",
              "      <td>500.000000</td>\n",
              "      <td>500.000000</td>\n",
              "      <td>500.000000</td>\n",
              "      <td>500.00000</td>\n",
              "      <td>500.000000</td>\n",
              "      <td>500.0000</td>\n",
              "      <td>500.000000</td>\n",
              "      <td>500.000000</td>\n",
              "      <td>500.000000</td>\n",
              "    </tr>\n",
              "    <tr>\n",
              "      <th>mean</th>\n",
              "      <td>250.500000</td>\n",
              "      <td>44.170000</td>\n",
              "      <td>1065.050731</td>\n",
              "      <td>14.308000</td>\n",
              "      <td>2.93400</td>\n",
              "      <td>3.008000</td>\n",
              "      <td>3.0780</td>\n",
              "      <td>3.082000</td>\n",
              "      <td>0.252280</td>\n",
              "      <td>251.181010</td>\n",
              "    </tr>\n",
              "    <tr>\n",
              "      <th>std</th>\n",
              "      <td>144.481833</td>\n",
              "      <td>14.813777</td>\n",
              "      <td>583.199658</td>\n",
              "      <td>8.151197</td>\n",
              "      <td>1.41054</td>\n",
              "      <td>1.372481</td>\n",
              "      <td>1.4156</td>\n",
              "      <td>1.415374</td>\n",
              "      <td>0.149674</td>\n",
              "      <td>141.531993</td>\n",
              "    </tr>\n",
              "    <tr>\n",
              "      <th>min</th>\n",
              "      <td>1.000000</td>\n",
              "      <td>18.000000</td>\n",
              "      <td>51.799790</td>\n",
              "      <td>1.000000</td>\n",
              "      <td>1.00000</td>\n",
              "      <td>1.000000</td>\n",
              "      <td>1.0000</td>\n",
              "      <td>1.000000</td>\n",
              "      <td>0.000000</td>\n",
              "      <td>0.772696</td>\n",
              "    </tr>\n",
              "    <tr>\n",
              "      <th>25%</th>\n",
              "      <td>125.750000</td>\n",
              "      <td>32.000000</td>\n",
              "      <td>535.083407</td>\n",
              "      <td>7.000000</td>\n",
              "      <td>2.00000</td>\n",
              "      <td>2.000000</td>\n",
              "      <td>2.0000</td>\n",
              "      <td>2.000000</td>\n",
              "      <td>0.110000</td>\n",
              "      <td>133.672231</td>\n",
              "    </tr>\n",
              "    <tr>\n",
              "      <th>50%</th>\n",
              "      <td>250.500000</td>\n",
              "      <td>44.000000</td>\n",
              "      <td>1100.884065</td>\n",
              "      <td>14.000000</td>\n",
              "      <td>3.00000</td>\n",
              "      <td>3.000000</td>\n",
              "      <td>3.0000</td>\n",
              "      <td>3.000000</td>\n",
              "      <td>0.260000</td>\n",
              "      <td>251.940355</td>\n",
              "    </tr>\n",
              "    <tr>\n",
              "      <th>75%</th>\n",
              "      <td>375.250000</td>\n",
              "      <td>58.000000</td>\n",
              "      <td>1584.348124</td>\n",
              "      <td>22.000000</td>\n",
              "      <td>4.00000</td>\n",
              "      <td>4.000000</td>\n",
              "      <td>4.0000</td>\n",
              "      <td>4.000000</td>\n",
              "      <td>0.380000</td>\n",
              "      <td>371.692341</td>\n",
              "    </tr>\n",
              "    <tr>\n",
              "      <th>max</th>\n",
              "      <td>500.000000</td>\n",
              "      <td>69.000000</td>\n",
              "      <td>1999.655968</td>\n",
              "      <td>29.000000</td>\n",
              "      <td>5.00000</td>\n",
              "      <td>5.000000</td>\n",
              "      <td>5.0000</td>\n",
              "      <td>5.000000</td>\n",
              "      <td>0.500000</td>\n",
              "      <td>499.813315</td>\n",
              "    </tr>\n",
              "  </tbody>\n",
              "</table>\n",
              "</div>"
            ],
            "text/plain": [
              "       CustomerID         Age  PurchaseAmount  PurchaseFrequency  \\\n",
              "count  500.000000  500.000000      500.000000         500.000000   \n",
              "mean   250.500000   44.170000     1065.050731          14.308000   \n",
              "std    144.481833   14.813777      583.199658           8.151197   \n",
              "min      1.000000   18.000000       51.799790           1.000000   \n",
              "25%    125.750000   32.000000      535.083407           7.000000   \n",
              "50%    250.500000   44.000000     1100.884065          14.000000   \n",
              "75%    375.250000   58.000000     1584.348124          22.000000   \n",
              "max    500.000000   69.000000     1999.655968          29.000000   \n",
              "\n",
              "       ProductQualityRating  DeliveryTimeRating  CustomerServiceRating  \\\n",
              "count             500.00000          500.000000               500.0000   \n",
              "mean                2.93400            3.008000                 3.0780   \n",
              "std                 1.41054            1.372481                 1.4156   \n",
              "min                 1.00000            1.000000                 1.0000   \n",
              "25%                 2.00000            2.000000                 2.0000   \n",
              "50%                 3.00000            3.000000                 3.0000   \n",
              "75%                 4.00000            4.000000                 4.0000   \n",
              "max                 5.00000            5.000000                 5.0000   \n",
              "\n",
              "       WebsiteEaseOfUseRating  ReturnRate  DiscountUsage  \n",
              "count              500.000000  500.000000     500.000000  \n",
              "mean                 3.082000    0.252280     251.181010  \n",
              "std                  1.415374    0.149674     141.531993  \n",
              "min                  1.000000    0.000000       0.772696  \n",
              "25%                  2.000000    0.110000     133.672231  \n",
              "50%                  3.000000    0.260000     251.940355  \n",
              "75%                  4.000000    0.380000     371.692341  \n",
              "max                  5.000000    0.500000     499.813315  "
            ]
          },
          "execution_count": 1019,
          "metadata": {},
          "output_type": "execute_result"
        }
      ],
      "source": [
        "#Statistical Summary of Numerical columns\n",
        "df.describe()"
      ]
    },
    {
      "cell_type": "code",
      "execution_count": null,
      "id": "0774de50-a32a-4ca4-9fcd-c56b3ba2355b",
      "metadata": {
        "id": "0774de50-a32a-4ca4-9fcd-c56b3ba2355b",
        "outputId": "7c3407da-9613-447d-a62b-0377118110ee"
      },
      "outputs": [
        {
          "data": {
            "text/plain": [
              "52"
            ]
          },
          "execution_count": 1020,
          "metadata": {},
          "output_type": "execute_result"
        }
      ],
      "source": [
        "\"\"\"Haven seen the statiscal report on the age column, i suggest segmenting it into age groups since there is a wise spread of ages.\n",
        "Hence i am checking the number of unique ages in the age column\"\"\"\n",
        "\n",
        "len(df[\"Age\"].unique())"
      ]
    },
    {
      "cell_type": "markdown",
      "id": "292e29af-dade-4f63-a1ce-3cbead1f2977",
      "metadata": {
        "id": "292e29af-dade-4f63-a1ce-3cbead1f2977"
      },
      "source": [
        "#### **Age Column Group Encoding**\n",
        "\n",
        "------\n",
        "For the `age` column we might as well have age-groups instead of values(It speaks more loudly and helps me understand the data)\n",
        "Recall from the .describe() we can see the `min_age = 18`and `max_age = 69`. Also the `std= 14.48` showing there's a spraed between these 2 extremes(It's obvious from the array above too).\n",
        "Hence, I'll form the age groups based on the percentiles `Young Adults(18-34)`, `Adults(35-54)` and `Older Adults(55-69)`"
      ]
    },
    {
      "cell_type": "code",
      "execution_count": null,
      "id": "34f1f565-a073-414b-8a33-eb74e04d058a",
      "metadata": {
        "id": "34f1f565-a073-414b-8a33-eb74e04d058a"
      },
      "outputs": [],
      "source": [
        "# Defining a function that would assign name tags to the different age ranges.\n",
        "def age_grouper(age):\n",
        "    if age < 35:\n",
        "        return \"Young Adults\"\n",
        "    elif 34 < age < 55 :\n",
        "        return \"Adults\"\n",
        "    elif 54 < age < 70 :\n",
        "        return \"Older Adults\"\n",
        "\n",
        "df[\"AgeGroup\"] = df[\"Age\"].apply(age_grouper)"
      ]
    },
    {
      "cell_type": "code",
      "execution_count": null,
      "id": "124e490d-f445-4c68-8294-2415c305a7e9",
      "metadata": {
        "id": "124e490d-f445-4c68-8294-2415c305a7e9",
        "outputId": "3ac8f51b-434d-4903-db8d-7ab97e079339"
      },
      "outputs": [
        {
          "data": {
            "text/plain": [
              "array(['Adults', 'Young Adults', 'Older Adults'], dtype=object)"
            ]
          },
          "execution_count": 1022,
          "metadata": {},
          "output_type": "execute_result"
        }
      ],
      "source": [
        "df[\"AgeGroup\"].unique()"
      ]
    },
    {
      "cell_type": "code",
      "execution_count": null,
      "id": "c3dcb2ac-fe4b-4d91-bb1d-8f08c989a6a2",
      "metadata": {
        "id": "c3dcb2ac-fe4b-4d91-bb1d-8f08c989a6a2",
        "outputId": "fc5ab76a-7b83-452d-e616-c600c2c1c14b"
      },
      "outputs": [
        {
          "data": {
            "text/plain": [
              "CustomerID                0\n",
              "Age                       0\n",
              "Gender                    0\n",
              "PurchaseAmount            0\n",
              "PurchaseFrequency         0\n",
              "ProductQualityRating      0\n",
              "DeliveryTimeRating        0\n",
              "CustomerServiceRating     0\n",
              "WebsiteEaseOfUseRating    0\n",
              "ReturnRate                0\n",
              "DiscountUsage             0\n",
              "LoyaltyProgramMember      0\n",
              "AgeGroup                  0\n",
              "dtype: int64"
            ]
          },
          "execution_count": 1023,
          "metadata": {},
          "output_type": "execute_result"
        }
      ],
      "source": [
        "# I'm rechecking for missing values.\n",
        "df.isna().sum()"
      ]
    },
    {
      "cell_type": "markdown",
      "id": "c9a202bd-e111-4ba0-a6aa-e9f68c0a3d7d",
      "metadata": {
        "id": "c9a202bd-e111-4ba0-a6aa-e9f68c0a3d7d"
      },
      "source": [
        "## **Exploratory Analysis**\n",
        "From the previous cell, we can note that there are no null values Neither are there Duplicates. So our dataset is set for EDA"
      ]
    },
    {
      "cell_type": "markdown",
      "id": "53cf40e2-e516-4445-ac79-ea5b5f3bf089",
      "metadata": {
        "id": "53cf40e2-e516-4445-ac79-ea5b5f3bf089"
      },
      "source": [
        "### **Univariate Exploratory Analysis**"
      ]
    },
    {
      "cell_type": "code",
      "execution_count": null,
      "id": "3ecbae52-d3df-453b-b7cd-ca02b7731d2f",
      "metadata": {
        "id": "3ecbae52-d3df-453b-b7cd-ca02b7731d2f",
        "outputId": "2e75cca2-6826-4aac-e24d-f26e220bcbac"
      },
      "outputs": [
        {
          "data": {
            "text/html": [
              "<div>\n",
              "<style scoped>\n",
              "    .dataframe tbody tr th:only-of-type {\n",
              "        vertical-align: middle;\n",
              "    }\n",
              "\n",
              "    .dataframe tbody tr th {\n",
              "        vertical-align: top;\n",
              "    }\n",
              "\n",
              "    .dataframe thead th {\n",
              "        text-align: right;\n",
              "    }\n",
              "</style>\n",
              "<table border=\"1\" class=\"dataframe\">\n",
              "  <thead>\n",
              "    <tr style=\"text-align: right;\">\n",
              "      <th></th>\n",
              "      <th>CustomerID</th>\n",
              "      <th>Age</th>\n",
              "      <th>PurchaseAmount</th>\n",
              "      <th>PurchaseFrequency</th>\n",
              "      <th>ProductQualityRating</th>\n",
              "      <th>DeliveryTimeRating</th>\n",
              "      <th>CustomerServiceRating</th>\n",
              "      <th>WebsiteEaseOfUseRating</th>\n",
              "      <th>ReturnRate</th>\n",
              "      <th>DiscountUsage</th>\n",
              "    </tr>\n",
              "  </thead>\n",
              "  <tbody>\n",
              "    <tr>\n",
              "      <th>count</th>\n",
              "      <td>500.000000</td>\n",
              "      <td>500.000000</td>\n",
              "      <td>500.000000</td>\n",
              "      <td>500.000000</td>\n",
              "      <td>500.00000</td>\n",
              "      <td>500.000000</td>\n",
              "      <td>500.0000</td>\n",
              "      <td>500.000000</td>\n",
              "      <td>500.000000</td>\n",
              "      <td>500.000000</td>\n",
              "    </tr>\n",
              "    <tr>\n",
              "      <th>mean</th>\n",
              "      <td>250.500000</td>\n",
              "      <td>44.170000</td>\n",
              "      <td>1065.050731</td>\n",
              "      <td>14.308000</td>\n",
              "      <td>2.93400</td>\n",
              "      <td>3.008000</td>\n",
              "      <td>3.0780</td>\n",
              "      <td>3.082000</td>\n",
              "      <td>0.252280</td>\n",
              "      <td>251.181010</td>\n",
              "    </tr>\n",
              "    <tr>\n",
              "      <th>std</th>\n",
              "      <td>144.481833</td>\n",
              "      <td>14.813777</td>\n",
              "      <td>583.199658</td>\n",
              "      <td>8.151197</td>\n",
              "      <td>1.41054</td>\n",
              "      <td>1.372481</td>\n",
              "      <td>1.4156</td>\n",
              "      <td>1.415374</td>\n",
              "      <td>0.149674</td>\n",
              "      <td>141.531993</td>\n",
              "    </tr>\n",
              "    <tr>\n",
              "      <th>min</th>\n",
              "      <td>1.000000</td>\n",
              "      <td>18.000000</td>\n",
              "      <td>51.799790</td>\n",
              "      <td>1.000000</td>\n",
              "      <td>1.00000</td>\n",
              "      <td>1.000000</td>\n",
              "      <td>1.0000</td>\n",
              "      <td>1.000000</td>\n",
              "      <td>0.000000</td>\n",
              "      <td>0.772696</td>\n",
              "    </tr>\n",
              "    <tr>\n",
              "      <th>25%</th>\n",
              "      <td>125.750000</td>\n",
              "      <td>32.000000</td>\n",
              "      <td>535.083407</td>\n",
              "      <td>7.000000</td>\n",
              "      <td>2.00000</td>\n",
              "      <td>2.000000</td>\n",
              "      <td>2.0000</td>\n",
              "      <td>2.000000</td>\n",
              "      <td>0.110000</td>\n",
              "      <td>133.672231</td>\n",
              "    </tr>\n",
              "    <tr>\n",
              "      <th>50%</th>\n",
              "      <td>250.500000</td>\n",
              "      <td>44.000000</td>\n",
              "      <td>1100.884065</td>\n",
              "      <td>14.000000</td>\n",
              "      <td>3.00000</td>\n",
              "      <td>3.000000</td>\n",
              "      <td>3.0000</td>\n",
              "      <td>3.000000</td>\n",
              "      <td>0.260000</td>\n",
              "      <td>251.940355</td>\n",
              "    </tr>\n",
              "    <tr>\n",
              "      <th>75%</th>\n",
              "      <td>375.250000</td>\n",
              "      <td>58.000000</td>\n",
              "      <td>1584.348124</td>\n",
              "      <td>22.000000</td>\n",
              "      <td>4.00000</td>\n",
              "      <td>4.000000</td>\n",
              "      <td>4.0000</td>\n",
              "      <td>4.000000</td>\n",
              "      <td>0.380000</td>\n",
              "      <td>371.692341</td>\n",
              "    </tr>\n",
              "    <tr>\n",
              "      <th>max</th>\n",
              "      <td>500.000000</td>\n",
              "      <td>69.000000</td>\n",
              "      <td>1999.655968</td>\n",
              "      <td>29.000000</td>\n",
              "      <td>5.00000</td>\n",
              "      <td>5.000000</td>\n",
              "      <td>5.0000</td>\n",
              "      <td>5.000000</td>\n",
              "      <td>0.500000</td>\n",
              "      <td>499.813315</td>\n",
              "    </tr>\n",
              "  </tbody>\n",
              "</table>\n",
              "</div>"
            ],
            "text/plain": [
              "       CustomerID         Age  PurchaseAmount  PurchaseFrequency  \\\n",
              "count  500.000000  500.000000      500.000000         500.000000   \n",
              "mean   250.500000   44.170000     1065.050731          14.308000   \n",
              "std    144.481833   14.813777      583.199658           8.151197   \n",
              "min      1.000000   18.000000       51.799790           1.000000   \n",
              "25%    125.750000   32.000000      535.083407           7.000000   \n",
              "50%    250.500000   44.000000     1100.884065          14.000000   \n",
              "75%    375.250000   58.000000     1584.348124          22.000000   \n",
              "max    500.000000   69.000000     1999.655968          29.000000   \n",
              "\n",
              "       ProductQualityRating  DeliveryTimeRating  CustomerServiceRating  \\\n",
              "count             500.00000          500.000000               500.0000   \n",
              "mean                2.93400            3.008000                 3.0780   \n",
              "std                 1.41054            1.372481                 1.4156   \n",
              "min                 1.00000            1.000000                 1.0000   \n",
              "25%                 2.00000            2.000000                 2.0000   \n",
              "50%                 3.00000            3.000000                 3.0000   \n",
              "75%                 4.00000            4.000000                 4.0000   \n",
              "max                 5.00000            5.000000                 5.0000   \n",
              "\n",
              "       WebsiteEaseOfUseRating  ReturnRate  DiscountUsage  \n",
              "count              500.000000  500.000000     500.000000  \n",
              "mean                 3.082000    0.252280     251.181010  \n",
              "std                  1.415374    0.149674     141.531993  \n",
              "min                  1.000000    0.000000       0.772696  \n",
              "25%                  2.000000    0.110000     133.672231  \n",
              "50%                  3.000000    0.260000     251.940355  \n",
              "75%                  4.000000    0.380000     371.692341  \n",
              "max                  5.000000    0.500000     499.813315  "
            ]
          },
          "execution_count": 1024,
          "metadata": {},
          "output_type": "execute_result"
        }
      ],
      "source": [
        "df.describe()"
      ]
    },
    {
      "cell_type": "code",
      "execution_count": null,
      "id": "024b494b-295f-4370-bb42-c20e2510019e",
      "metadata": {
        "id": "024b494b-295f-4370-bb42-c20e2510019e",
        "outputId": "435bc8dc-9c43-4b88-bae3-934cba228206"
      },
      "outputs": [
        {
          "data": {
            "text/html": [
              "<div>\n",
              "<style scoped>\n",
              "    .dataframe tbody tr th:only-of-type {\n",
              "        vertical-align: middle;\n",
              "    }\n",
              "\n",
              "    .dataframe tbody tr th {\n",
              "        vertical-align: top;\n",
              "    }\n",
              "\n",
              "    .dataframe thead th {\n",
              "        text-align: right;\n",
              "    }\n",
              "</style>\n",
              "<table border=\"1\" class=\"dataframe\">\n",
              "  <thead>\n",
              "    <tr style=\"text-align: right;\">\n",
              "      <th></th>\n",
              "      <th>count</th>\n",
              "      <th>unique</th>\n",
              "      <th>top</th>\n",
              "      <th>freq</th>\n",
              "    </tr>\n",
              "  </thead>\n",
              "  <tbody>\n",
              "    <tr>\n",
              "      <th>Gender</th>\n",
              "      <td>500</td>\n",
              "      <td>2</td>\n",
              "      <td>Female</td>\n",
              "      <td>266</td>\n",
              "    </tr>\n",
              "    <tr>\n",
              "      <th>LoyaltyProgramMember</th>\n",
              "      <td>500</td>\n",
              "      <td>2</td>\n",
              "      <td>Yes</td>\n",
              "      <td>261</td>\n",
              "    </tr>\n",
              "    <tr>\n",
              "      <th>AgeGroup</th>\n",
              "      <td>500</td>\n",
              "      <td>3</td>\n",
              "      <td>Adults</td>\n",
              "      <td>201</td>\n",
              "    </tr>\n",
              "  </tbody>\n",
              "</table>\n",
              "</div>"
            ],
            "text/plain": [
              "                     count unique     top freq\n",
              "Gender                 500      2  Female  266\n",
              "LoyaltyProgramMember   500      2     Yes  261\n",
              "AgeGroup               500      3  Adults  201"
            ]
          },
          "execution_count": 1025,
          "metadata": {},
          "output_type": "execute_result"
        }
      ],
      "source": [
        "# Statistical Summary of non-numeerical columns.\n",
        "df[[\"Gender\",\"LoyaltyProgramMember\",\"AgeGroup\"]].describe().T"
      ]
    },
    {
      "cell_type": "code",
      "execution_count": null,
      "id": "7a4126b1-3ad5-4151-9462-bfb5f8e63fd2",
      "metadata": {
        "id": "7a4126b1-3ad5-4151-9462-bfb5f8e63fd2",
        "outputId": "da6610a8-9b48-44a1-b7bf-ce045a344c58"
      },
      "outputs": [
        {
          "name": "stdout",
          "output_type": "stream",
          "text": [
            "The Sum Total Of Purchases Made is : 532525.37\n"
          ]
        }
      ],
      "source": [
        "#Total Purchases Made\n",
        "sum_total_purchases = df[\"PurchaseAmount\"].sum()\n",
        "print(f\"The Sum Total Of Purchases Made is : {sum_total_purchases :.2f}\")"
      ]
    },
    {
      "cell_type": "code",
      "execution_count": null,
      "id": "a727e363-7326-47b7-8950-c56566f133ed",
      "metadata": {
        "id": "a727e363-7326-47b7-8950-c56566f133ed",
        "outputId": "d269608d-21a7-44f2-c3f9-58708ce6cf48"
      },
      "outputs": [
        {
          "data": {
            "text/plain": [
              "AgeGroup\n",
              "Adults          201\n",
              "Older Adults    153\n",
              "Young Adults    146\n",
              "Name: count, dtype: int64"
            ]
          },
          "execution_count": 1027,
          "metadata": {},
          "output_type": "execute_result"
        }
      ],
      "source": [
        "#Age\n",
        "age_group_distribution = df[\"AgeGroup\"].value_counts()\n",
        "age_group_distribution"
      ]
    },
    {
      "cell_type": "code",
      "execution_count": null,
      "id": "df3352cd-bff1-4d46-9091-dd8cb1c37ce5",
      "metadata": {
        "id": "df3352cd-bff1-4d46-9091-dd8cb1c37ce5",
        "outputId": "f10dda5d-2ad0-42bd-8acb-bab5e53d0be2"
      },
      "outputs": [
        {
          "data": {
            "image/png": "[encoded data removed]",
            "text/plain": [
              "<Figure size 600x300 with 1 Axes>"
            ]
          },
          "metadata": {},
          "output_type": "display_data"
        }
      ],
      "source": [
        "plt.figure(figsize = (6,3))\n",
        "age_group_distribution.plot(kind=\"barh\", color = \"#4679f6\")\n",
        "plt.title(\"Age Distribution\", fontsize = 10,fontweight = 600)\n",
        "plt.ylabel(\"Age Group\",fontsize = 9)\n",
        "plt.xlabel(\"Frequency\", fontsize = 9)\n",
        "plt.xticks(rotation = 0, fontsize = 7)\n",
        "plt.yticks(fontsize = 7)\n",
        "plt.show()"
      ]
    },
    {
      "cell_type": "code",
      "execution_count": null,
      "id": "b4acddd9-b733-4424-bfc7-01423e387804",
      "metadata": {
        "id": "b4acddd9-b733-4424-bfc7-01423e387804",
        "outputId": "67fb4cfe-0980-41c2-e683-c600194c2adc"
      },
      "outputs": [
        {
          "data": {
            "text/plain": [
              "Gender\n",
              "Female    266\n",
              "Male      234\n",
              "Name: count, dtype: int64"
            ]
          },
          "execution_count": 1029,
          "metadata": {},
          "output_type": "execute_result"
        }
      ],
      "source": [
        "#Gender\n",
        "gender_distribution = df[\"Gender\"].value_counts()\n",
        "gender_distribution"
      ]
    },
    {
      "cell_type": "code",
      "execution_count": null,
      "id": "c1210360-d7bf-4b62-ab74-43667aaec83a",
      "metadata": {
        "id": "c1210360-d7bf-4b62-ab74-43667aaec83a",
        "outputId": "072c523e-9a0c-4e8a-acc1-082c0b4a006b"
      },
      "outputs": [
        {
          "data": {
            "image/png": "[encoded data removed]",
            "text/plain": [
              "<Figure size 500x500 with 1 Axes>"
            ]
          },
          "metadata": {},
          "output_type": "display_data"
        }
      ],
      "source": [
        "plt.figure(figsize = (5,5))\n",
        "gender_distribution.plot(kind=\"pie\",autopct ='%1.1f%%',startangle=90, colors=['#4679f6','#1b4782'], explode=(0.1, 0), labels = gender_distribution.index)\n",
        "plt.title(\"Gender Distribution\", fontweight = 600)\n",
        "plt.ylabel(\"\")\n",
        "plt.show()"
      ]
    },
    {
      "cell_type": "code",
      "execution_count": null,
      "id": "d4bab139-8efc-4512-b767-e7a95bde7689",
      "metadata": {
        "id": "d4bab139-8efc-4512-b767-e7a95bde7689",
        "outputId": "486d4066-7c52-4888-dd34-5b165b4db59e"
      },
      "outputs": [
        {
          "data": {
            "text/plain": [
              "LoyaltyProgramMember\n",
              "Yes    261\n",
              "No     239\n",
              "Name: count, dtype: int64"
            ]
          },
          "execution_count": 1031,
          "metadata": {},
          "output_type": "execute_result"
        }
      ],
      "source": [
        "#Loyalty Program Members\n",
        "loyal_members_distribution = df[\"LoyaltyProgramMember\"].value_counts()\n",
        "loyal_members_distribution"
      ]
    },
    {
      "cell_type": "code",
      "execution_count": null,
      "id": "73bc4336-06e7-4ab7-81e5-a2fa1e2dd3b7",
      "metadata": {
        "id": "73bc4336-06e7-4ab7-81e5-a2fa1e2dd3b7",
        "outputId": "aed8f697-1263-4b06-9115-e8384d6068e6"
      },
      "outputs": [
        {
          "data": {
            "image/png": "[encoded data removed]",
            "text/plain": [
              "<Figure size 600x200 with 1 Axes>"
            ]
          },
          "metadata": {},
          "output_type": "display_data"
        }
      ],
      "source": [
        "plt.figure(figsize = (6,2))\n",
        "loyal_members_distribution.plot(kind=\"barh\", color = \"#1b4782\")\n",
        "plt.title(\"Loyal Members Distribution\",fontsize = 10, fontweight = 600)\n",
        "plt.ylabel(\"Membership Status\",fontsize = 9)\n",
        "plt.xlabel(\"Frequency\", fontsize = 9)\n",
        "plt.xticks(rotation = 0, fontsize = 7)\n",
        "plt.yticks(fontsize = 7)\n",
        "plt.show()"
      ]
    },
    {
      "cell_type": "code",
      "execution_count": null,
      "id": "288b73d5-61ce-4c29-912e-da8f4f6ca6cb",
      "metadata": {
        "id": "288b73d5-61ce-4c29-912e-da8f4f6ca6cb",
        "outputId": "2371b935-9432-4635-85fe-38adea6ab0ac"
      },
      "outputs": [
        {
          "data": {
            "image/png": "[encoded data removed]",
            "text/plain": [
              "<Figure size 640x480 with 1 Axes>"
            ]
          },
          "metadata": {},
          "output_type": "display_data"
        }
      ],
      "source": [
        "\"\"\"I chose a box plot, because from my examination of the data, the ratings columns were very similar in their influence on the data and a boxplot\n",
        "is a pictoral representation of a statistical summary\"\"\"\n",
        "df[[\"ProductQualityRating\",\"DeliveryTimeRating\",\"WebsiteEaseOfUseRating\",\"CustomerServiceRating\"]].plot(kind =\"box\", color ='#4679f6')\n",
        "plt.xticks(rotation = 0, fontsize = 7)\n",
        "plt.yticks(fontsize = 7)\n",
        "plt.title(\"General Ratings Statistical Overview\", fontweight = 600)\n",
        "plt.xlabel(\"Ratings Type\",fontsize = 9)\n",
        "plt.show()"
      ]
    },
    {
      "cell_type": "code",
      "execution_count": null,
      "id": "88079801-a780-4795-b400-edd5486f8319",
      "metadata": {
        "id": "88079801-a780-4795-b400-edd5486f8319",
        "outputId": "f9d35cbf-ee4b-4d17-d745-9cceedbf1f84"
      },
      "outputs": [
        {
          "data": {
            "text/plain": [
              "Index(['CustomerID', 'Age', 'Gender', 'PurchaseAmount', 'PurchaseFrequency',\n",
              "       'ProductQualityRating', 'DeliveryTimeRating', 'CustomerServiceRating',\n",
              "       'WebsiteEaseOfUseRating', 'ReturnRate', 'DiscountUsage',\n",
              "       'LoyaltyProgramMember', 'AgeGroup'],\n",
              "      dtype='object')"
            ]
          },
          "execution_count": 1034,
          "metadata": {},
          "output_type": "execute_result"
        }
      ],
      "source": [
        "#Checking the columns list to see what columns would be needed to answer these questions...\n",
        "df.columns"
      ]
    },
    {
      "cell_type": "markdown",
      "id": "d4330f83-6a52-46f7-8603-e617bef4eef7",
      "metadata": {
        "id": "d4330f83-6a52-46f7-8603-e617bef4eef7"
      },
      "source": [
        "### **Bivariate/Multivariate Exploratory Analysis**\n",
        "This part of my analysis focuses on finding the association or correlation between 2 or more of any columns.\n",
        "At this point i'll not be needing the `CustomerID` column since it contains no insight.\n",
        "\n",
        "1. I could use the groupby manipulations(Grouping by the categorical columns) to find some insights.\n",
        "2. If it is insufficient I'd encode the Categorical columns so that they become numerical, then i could use a correlation method and visualize it using a heatmap.\n",
        "3. **Update** : The Groupbys were not entirely sufficient hence I used a correlation map after encoding the categorical columns.\n",
        "-------------\n",
        "**Assumptions or Questions i look forward to answering**\n",
        "\n",
        "**For Customers Satisfaction**\n",
        "Features - `CustomerServiceRating`,`WebsiteEaseOfUseRating`, `ReturnRate`,`ProductQualityRating`, `DiscountUsage`(This i want to see if the discounts help in improving customer's satistaction.), `LoyaltyProgramMember` - Did their satisfaction influence thier joining this program ?\n",
        "\n",
        "1. Monitor the customers with the highest frequent purchases. Target Columns needed - `Purchase Frequency`.\n",
        "2. Monitor the customers with the highest purchases. Target Columns needed - `PurchaseAmount`\n",
        "**For Customers Disatisfaction**\n",
        "\n",
        "1.Look out for very bad ratings the lowest ratings. Most especially the `ReturnRate Column`\n",
        "\n",
        "--------\n",
        "**Age and Gender**\n",
        "We need to see if `Age` and `Gender` had an influence on the overall satisfaction or disatisfaction of customers as the case may be.\n",
        "\n",
        "**From all this i can get an insight to what actions the company should take**"
      ]
    },
    {
      "cell_type": "code",
      "execution_count": null,
      "id": "48f9f48f-27f6-4b6e-9a75-362707346d30",
      "metadata": {
        "id": "48f9f48f-27f6-4b6e-9a75-362707346d30",
        "outputId": "fd706c55-86b0-4794-9a9f-41a04a93d4f4"
      },
      "outputs": [
        {
          "data": {
            "text/plain": [
              "Index(['CustomerID', 'Age', 'Gender', 'PurchaseAmount', 'PurchaseFrequency',\n",
              "       'ProductQualityRating', 'DeliveryTimeRating', 'CustomerServiceRating',\n",
              "       'WebsiteEaseOfUseRating', 'ReturnRate', 'DiscountUsage',\n",
              "       'LoyaltyProgramMember', 'AgeGroup'],\n",
              "      dtype='object')"
            ]
          },
          "execution_count": 1035,
          "metadata": {},
          "output_type": "execute_result"
        }
      ],
      "source": [
        "df.columns"
      ]
    },
    {
      "cell_type": "code",
      "execution_count": null,
      "id": "c652a269-9e2b-435e-82d1-755818dd29c1",
      "metadata": {
        "id": "c652a269-9e2b-435e-82d1-755818dd29c1"
      },
      "outputs": [],
      "source": [
        "df.drop(columns=\"CustomerID\", inplace = True)"
      ]
    },
    {
      "cell_type": "markdown",
      "id": "5f87ef29-3aed-4f03-8f3d-af885d139b78",
      "metadata": {
        "id": "5f87ef29-3aed-4f03-8f3d-af885d139b78"
      },
      "source": [
        "#### Gender groupby's\n",
        "**Like i said earlier i wanted to see if there was a gender bias on satisfaction. So far so good there exists no much of a very significant bias.**"
      ]
    },
    {
      "cell_type": "code",
      "execution_count": null,
      "id": "bac9ad04-f1d0-43ac-82a7-94ee31646350",
      "metadata": {
        "scrolled": true,
        "id": "bac9ad04-f1d0-43ac-82a7-94ee31646350",
        "outputId": "dbd1f447-229e-4aa7-e9b7-b192b23946f6"
      },
      "outputs": [
        {
          "data": {
            "text/html": [
              "<div>\n",
              "<style scoped>\n",
              "    .dataframe tbody tr th:only-of-type {\n",
              "        vertical-align: middle;\n",
              "    }\n",
              "\n",
              "    .dataframe tbody tr th {\n",
              "        vertical-align: top;\n",
              "    }\n",
              "\n",
              "    .dataframe thead th {\n",
              "        text-align: right;\n",
              "    }\n",
              "</style>\n",
              "<table border=\"1\" class=\"dataframe\">\n",
              "  <thead>\n",
              "    <tr style=\"text-align: right;\">\n",
              "      <th></th>\n",
              "      <th>Gender</th>\n",
              "      <th>Female</th>\n",
              "      <th>Male</th>\n",
              "    </tr>\n",
              "  </thead>\n",
              "  <tbody>\n",
              "    <tr>\n",
              "      <th rowspan=\"8\" valign=\"top\">PurchaseAmount</th>\n",
              "      <th>count</th>\n",
              "      <td>266.000000</td>\n",
              "      <td>234.000000</td>\n",
              "    </tr>\n",
              "    <tr>\n",
              "      <th>mean</th>\n",
              "      <td>1037.588156</td>\n",
              "      <td>1096.268871</td>\n",
              "    </tr>\n",
              "    <tr>\n",
              "      <th>std</th>\n",
              "      <td>596.545745</td>\n",
              "      <td>567.304540</td>\n",
              "    </tr>\n",
              "    <tr>\n",
              "      <th>min</th>\n",
              "      <td>51.799790</td>\n",
              "      <td>85.004597</td>\n",
              "    </tr>\n",
              "    <tr>\n",
              "      <th>25%</th>\n",
              "      <td>503.322455</td>\n",
              "      <td>584.191117</td>\n",
              "    </tr>\n",
              "    <tr>\n",
              "      <th>50%</th>\n",
              "      <td>1026.623557</td>\n",
              "      <td>1137.555586</td>\n",
              "    </tr>\n",
              "    <tr>\n",
              "      <th>75%</th>\n",
              "      <td>1603.673193</td>\n",
              "      <td>1573.927577</td>\n",
              "    </tr>\n",
              "    <tr>\n",
              "      <th>max</th>\n",
              "      <td>1992.101937</td>\n",
              "      <td>1999.655968</td>\n",
              "    </tr>\n",
              "    <tr>\n",
              "      <th rowspan=\"8\" valign=\"top\">PurchaseFrequency</th>\n",
              "      <th>count</th>\n",
              "      <td>266.000000</td>\n",
              "      <td>234.000000</td>\n",
              "    </tr>\n",
              "    <tr>\n",
              "      <th>mean</th>\n",
              "      <td>14.842105</td>\n",
              "      <td>13.700855</td>\n",
              "    </tr>\n",
              "    <tr>\n",
              "      <th>std</th>\n",
              "      <td>8.223613</td>\n",
              "      <td>8.042553</td>\n",
              "    </tr>\n",
              "    <tr>\n",
              "      <th>min</th>\n",
              "      <td>1.000000</td>\n",
              "      <td>1.000000</td>\n",
              "    </tr>\n",
              "    <tr>\n",
              "      <th>25%</th>\n",
              "      <td>8.000000</td>\n",
              "      <td>7.000000</td>\n",
              "    </tr>\n",
              "    <tr>\n",
              "      <th>50%</th>\n",
              "      <td>14.000000</td>\n",
              "      <td>13.000000</td>\n",
              "    </tr>\n",
              "    <tr>\n",
              "      <th>75%</th>\n",
              "      <td>22.000000</td>\n",
              "      <td>20.750000</td>\n",
              "    </tr>\n",
              "    <tr>\n",
              "      <th>max</th>\n",
              "      <td>29.000000</td>\n",
              "      <td>29.000000</td>\n",
              "    </tr>\n",
              "    <tr>\n",
              "      <th rowspan=\"8\" valign=\"top\">DiscountUsage</th>\n",
              "      <th>count</th>\n",
              "      <td>266.000000</td>\n",
              "      <td>234.000000</td>\n",
              "    </tr>\n",
              "    <tr>\n",
              "      <th>mean</th>\n",
              "      <td>256.152330</td>\n",
              "      <td>245.529851</td>\n",
              "    </tr>\n",
              "    <tr>\n",
              "      <th>std</th>\n",
              "      <td>143.165986</td>\n",
              "      <td>139.742282</td>\n",
              "    </tr>\n",
              "    <tr>\n",
              "      <th>min</th>\n",
              "      <td>0.944364</td>\n",
              "      <td>0.772696</td>\n",
              "    </tr>\n",
              "    <tr>\n",
              "      <th>25%</th>\n",
              "      <td>126.848181</td>\n",
              "      <td>139.937730</td>\n",
              "    </tr>\n",
              "    <tr>\n",
              "      <th>50%</th>\n",
              "      <td>254.774827</td>\n",
              "      <td>249.376912</td>\n",
              "    </tr>\n",
              "    <tr>\n",
              "      <th>75%</th>\n",
              "      <td>379.070374</td>\n",
              "      <td>360.940255</td>\n",
              "    </tr>\n",
              "    <tr>\n",
              "      <th>max</th>\n",
              "      <td>496.367529</td>\n",
              "      <td>499.813315</td>\n",
              "    </tr>\n",
              "  </tbody>\n",
              "</table>\n",
              "</div>"
            ],
            "text/plain": [
              "Gender                        Female         Male\n",
              "PurchaseAmount    count   266.000000   234.000000\n",
              "                  mean   1037.588156  1096.268871\n",
              "                  std     596.545745   567.304540\n",
              "                  min      51.799790    85.004597\n",
              "                  25%     503.322455   584.191117\n",
              "                  50%    1026.623557  1137.555586\n",
              "                  75%    1603.673193  1573.927577\n",
              "                  max    1992.101937  1999.655968\n",
              "PurchaseFrequency count   266.000000   234.000000\n",
              "                  mean     14.842105    13.700855\n",
              "                  std       8.223613     8.042553\n",
              "                  min       1.000000     1.000000\n",
              "                  25%       8.000000     7.000000\n",
              "                  50%      14.000000    13.000000\n",
              "                  75%      22.000000    20.750000\n",
              "                  max      29.000000    29.000000\n",
              "DiscountUsage     count   266.000000   234.000000\n",
              "                  mean    256.152330   245.529851\n",
              "                  std     143.165986   139.742282\n",
              "                  min       0.944364     0.772696\n",
              "                  25%     126.848181   139.937730\n",
              "                  50%     254.774827   249.376912\n",
              "                  75%     379.070374   360.940255\n",
              "                  max     496.367529   499.813315"
            ]
          },
          "execution_count": 1037,
          "metadata": {},
          "output_type": "execute_result"
        }
      ],
      "source": [
        "df.groupby(\"Gender\")[['PurchaseAmount','PurchaseFrequency','DiscountUsage']].describe().T"
      ]
    },
    {
      "cell_type": "code",
      "execution_count": null,
      "id": "bed9cbc9-43d1-45dc-8ac6-7912997700a5",
      "metadata": {
        "id": "bed9cbc9-43d1-45dc-8ac6-7912997700a5",
        "outputId": "551437e3-d5e5-4328-8a19-689548c94da9"
      },
      "outputs": [
        {
          "data": {
            "image/png": "[encoded data removed]",
            "text/plain": [
              "<Figure size 500x100 with 1 Axes>"
            ]
          },
          "metadata": {},
          "output_type": "display_data"
        },
        {
          "name": "stdout",
          "output_type": "stream",
          "text": [
            "Gender\n",
            "Female    1037.588156\n",
            "Male      1096.268871\n",
            "Name: PurchaseAmount, dtype: float64\n"
          ]
        }
      ],
      "source": [
        "purchase_by_gender = df.groupby(\"Gender\")[\"PurchaseAmount\"].mean()\n",
        "\n",
        "#Plotting the distribution\n",
        "plt.figure(figsize = (5,1))\n",
        "purchase_by_gender.plot(kind=\"barh\", color = \"#5619f4\",)\n",
        "plt.title(\"Average Purchases By Gender\",fontsize = 10, fontweight = 600)\n",
        "plt.ylabel(\"Gender\",fontsize = 9)\n",
        "plt.xlabel(\"Average Purchase Amount\", fontsize = 9)\n",
        "plt.xticks(rotation = 0, fontsize = 7)\n",
        "plt.yticks(fontsize = 7)\n",
        "plt.show()\n",
        "print(f\"{purchase_by_gender}\")"
      ]
    },
    {
      "cell_type": "code",
      "execution_count": null,
      "id": "bcffbf9c-aa52-484e-b643-95e58f65845b",
      "metadata": {
        "scrolled": true,
        "id": "bcffbf9c-aa52-484e-b643-95e58f65845b",
        "outputId": "2e435c0a-561c-4a10-add0-85499645f870"
      },
      "outputs": [
        {
          "data": {
            "text/html": [
              "<div>\n",
              "<style scoped>\n",
              "    .dataframe tbody tr th:only-of-type {\n",
              "        vertical-align: middle;\n",
              "    }\n",
              "\n",
              "    .dataframe tbody tr th {\n",
              "        vertical-align: top;\n",
              "    }\n",
              "\n",
              "    .dataframe thead th {\n",
              "        text-align: right;\n",
              "    }\n",
              "</style>\n",
              "<table border=\"1\" class=\"dataframe\">\n",
              "  <thead>\n",
              "    <tr style=\"text-align: right;\">\n",
              "      <th></th>\n",
              "      <th>Gender</th>\n",
              "      <th>Female</th>\n",
              "      <th>Male</th>\n",
              "    </tr>\n",
              "  </thead>\n",
              "  <tbody>\n",
              "    <tr>\n",
              "      <th rowspan=\"8\" valign=\"top\">ProductQualityRating</th>\n",
              "      <th>count</th>\n",
              "      <td>266.000000</td>\n",
              "      <td>234.000000</td>\n",
              "    </tr>\n",
              "    <tr>\n",
              "      <th>mean</th>\n",
              "      <td>2.984962</td>\n",
              "      <td>2.876068</td>\n",
              "    </tr>\n",
              "    <tr>\n",
              "      <th>std</th>\n",
              "      <td>1.400727</td>\n",
              "      <td>1.422393</td>\n",
              "    </tr>\n",
              "    <tr>\n",
              "      <th>min</th>\n",
              "      <td>1.000000</td>\n",
              "      <td>1.000000</td>\n",
              "    </tr>\n",
              "    <tr>\n",
              "      <th>25%</th>\n",
              "      <td>2.000000</td>\n",
              "      <td>2.000000</td>\n",
              "    </tr>\n",
              "    <tr>\n",
              "      <th>50%</th>\n",
              "      <td>3.000000</td>\n",
              "      <td>3.000000</td>\n",
              "    </tr>\n",
              "    <tr>\n",
              "      <th>75%</th>\n",
              "      <td>4.000000</td>\n",
              "      <td>4.000000</td>\n",
              "    </tr>\n",
              "    <tr>\n",
              "      <th>max</th>\n",
              "      <td>5.000000</td>\n",
              "      <td>5.000000</td>\n",
              "    </tr>\n",
              "    <tr>\n",
              "      <th rowspan=\"8\" valign=\"top\">DeliveryTimeRating</th>\n",
              "      <th>count</th>\n",
              "      <td>266.000000</td>\n",
              "      <td>234.000000</td>\n",
              "    </tr>\n",
              "    <tr>\n",
              "      <th>mean</th>\n",
              "      <td>3.052632</td>\n",
              "      <td>2.957265</td>\n",
              "    </tr>\n",
              "    <tr>\n",
              "      <th>std</th>\n",
              "      <td>1.380816</td>\n",
              "      <td>1.364121</td>\n",
              "    </tr>\n",
              "    <tr>\n",
              "      <th>min</th>\n",
              "      <td>1.000000</td>\n",
              "      <td>1.000000</td>\n",
              "    </tr>\n",
              "    <tr>\n",
              "      <th>25%</th>\n",
              "      <td>2.000000</td>\n",
              "      <td>2.000000</td>\n",
              "    </tr>\n",
              "    <tr>\n",
              "      <th>50%</th>\n",
              "      <td>3.000000</td>\n",
              "      <td>3.000000</td>\n",
              "    </tr>\n",
              "    <tr>\n",
              "      <th>75%</th>\n",
              "      <td>4.000000</td>\n",
              "      <td>4.000000</td>\n",
              "    </tr>\n",
              "    <tr>\n",
              "      <th>max</th>\n",
              "      <td>5.000000</td>\n",
              "      <td>5.000000</td>\n",
              "    </tr>\n",
              "    <tr>\n",
              "      <th rowspan=\"8\" valign=\"top\">CustomerServiceRating</th>\n",
              "      <th>count</th>\n",
              "      <td>266.000000</td>\n",
              "      <td>234.000000</td>\n",
              "    </tr>\n",
              "    <tr>\n",
              "      <th>mean</th>\n",
              "      <td>3.045113</td>\n",
              "      <td>3.115385</td>\n",
              "    </tr>\n",
              "    <tr>\n",
              "      <th>std</th>\n",
              "      <td>1.394678</td>\n",
              "      <td>1.441096</td>\n",
              "    </tr>\n",
              "    <tr>\n",
              "      <th>min</th>\n",
              "      <td>1.000000</td>\n",
              "      <td>1.000000</td>\n",
              "    </tr>\n",
              "    <tr>\n",
              "      <th>25%</th>\n",
              "      <td>2.000000</td>\n",
              "      <td>2.000000</td>\n",
              "    </tr>\n",
              "    <tr>\n",
              "      <th>50%</th>\n",
              "      <td>3.000000</td>\n",
              "      <td>3.000000</td>\n",
              "    </tr>\n",
              "    <tr>\n",
              "      <th>75%</th>\n",
              "      <td>4.000000</td>\n",
              "      <td>4.000000</td>\n",
              "    </tr>\n",
              "    <tr>\n",
              "      <th>max</th>\n",
              "      <td>5.000000</td>\n",
              "      <td>5.000000</td>\n",
              "    </tr>\n",
              "    <tr>\n",
              "      <th rowspan=\"8\" valign=\"top\">WebsiteEaseOfUseRating</th>\n",
              "      <th>count</th>\n",
              "      <td>266.000000</td>\n",
              "      <td>234.000000</td>\n",
              "    </tr>\n",
              "    <tr>\n",
              "      <th>mean</th>\n",
              "      <td>3.030075</td>\n",
              "      <td>3.141026</td>\n",
              "    </tr>\n",
              "    <tr>\n",
              "      <th>std</th>\n",
              "      <td>1.397787</td>\n",
              "      <td>1.435817</td>\n",
              "    </tr>\n",
              "    <tr>\n",
              "      <th>min</th>\n",
              "      <td>1.000000</td>\n",
              "      <td>1.000000</td>\n",
              "    </tr>\n",
              "    <tr>\n",
              "      <th>25%</th>\n",
              "      <td>2.000000</td>\n",
              "      <td>2.000000</td>\n",
              "    </tr>\n",
              "    <tr>\n",
              "      <th>50%</th>\n",
              "      <td>3.000000</td>\n",
              "      <td>3.000000</td>\n",
              "    </tr>\n",
              "    <tr>\n",
              "      <th>75%</th>\n",
              "      <td>4.000000</td>\n",
              "      <td>4.000000</td>\n",
              "    </tr>\n",
              "    <tr>\n",
              "      <th>max</th>\n",
              "      <td>5.000000</td>\n",
              "      <td>5.000000</td>\n",
              "    </tr>\n",
              "    <tr>\n",
              "      <th rowspan=\"8\" valign=\"top\">ReturnRate</th>\n",
              "      <th>count</th>\n",
              "      <td>266.000000</td>\n",
              "      <td>234.000000</td>\n",
              "    </tr>\n",
              "    <tr>\n",
              "      <th>mean</th>\n",
              "      <td>0.253872</td>\n",
              "      <td>0.250470</td>\n",
              "    </tr>\n",
              "    <tr>\n",
              "      <th>std</th>\n",
              "      <td>0.146549</td>\n",
              "      <td>0.153445</td>\n",
              "    </tr>\n",
              "    <tr>\n",
              "      <th>min</th>\n",
              "      <td>0.000000</td>\n",
              "      <td>0.000000</td>\n",
              "    </tr>\n",
              "    <tr>\n",
              "      <th>25%</th>\n",
              "      <td>0.120000</td>\n",
              "      <td>0.102500</td>\n",
              "    </tr>\n",
              "    <tr>\n",
              "      <th>50%</th>\n",
              "      <td>0.250000</td>\n",
              "      <td>0.270000</td>\n",
              "    </tr>\n",
              "    <tr>\n",
              "      <th>75%</th>\n",
              "      <td>0.380000</td>\n",
              "      <td>0.390000</td>\n",
              "    </tr>\n",
              "    <tr>\n",
              "      <th>max</th>\n",
              "      <td>0.500000</td>\n",
              "      <td>0.500000</td>\n",
              "    </tr>\n",
              "  </tbody>\n",
              "</table>\n",
              "</div>"
            ],
            "text/plain": [
              "Gender                            Female        Male\n",
              "ProductQualityRating   count  266.000000  234.000000\n",
              "                       mean     2.984962    2.876068\n",
              "                       std      1.400727    1.422393\n",
              "                       min      1.000000    1.000000\n",
              "                       25%      2.000000    2.000000\n",
              "                       50%      3.000000    3.000000\n",
              "                       75%      4.000000    4.000000\n",
              "                       max      5.000000    5.000000\n",
              "DeliveryTimeRating     count  266.000000  234.000000\n",
              "                       mean     3.052632    2.957265\n",
              "                       std      1.380816    1.364121\n",
              "                       min      1.000000    1.000000\n",
              "                       25%      2.000000    2.000000\n",
              "                       50%      3.000000    3.000000\n",
              "                       75%      4.000000    4.000000\n",
              "                       max      5.000000    5.000000\n",
              "CustomerServiceRating  count  266.000000  234.000000\n",
              "                       mean     3.045113    3.115385\n",
              "                       std      1.394678    1.441096\n",
              "                       min      1.000000    1.000000\n",
              "                       25%      2.000000    2.000000\n",
              "                       50%      3.000000    3.000000\n",
              "                       75%      4.000000    4.000000\n",
              "                       max      5.000000    5.000000\n",
              "WebsiteEaseOfUseRating count  266.000000  234.000000\n",
              "                       mean     3.030075    3.141026\n",
              "                       std      1.397787    1.435817\n",
              "                       min      1.000000    1.000000\n",
              "                       25%      2.000000    2.000000\n",
              "                       50%      3.000000    3.000000\n",
              "                       75%      4.000000    4.000000\n",
              "                       max      5.000000    5.000000\n",
              "ReturnRate             count  266.000000  234.000000\n",
              "                       mean     0.253872    0.250470\n",
              "                       std      0.146549    0.153445\n",
              "                       min      0.000000    0.000000\n",
              "                       25%      0.120000    0.102500\n",
              "                       50%      0.250000    0.270000\n",
              "                       75%      0.380000    0.390000\n",
              "                       max      0.500000    0.500000"
            ]
          },
          "execution_count": 1039,
          "metadata": {},
          "output_type": "execute_result"
        }
      ],
      "source": [
        "df.groupby(\"Gender\")[['ProductQualityRating', 'DeliveryTimeRating', 'CustomerServiceRating',\n",
        "       'WebsiteEaseOfUseRating', 'ReturnRate']].describe().T"
      ]
    },
    {
      "cell_type": "code",
      "execution_count": null,
      "id": "61f8f970-4308-45ff-b0f5-f032756568a5",
      "metadata": {
        "id": "61f8f970-4308-45ff-b0f5-f032756568a5",
        "outputId": "db0807ab-6eaa-40b0-a6d7-50d6fe4dbaeb"
      },
      "outputs": [
        {
          "data": {
            "text/plain": [
              "Index(['Age', 'Gender', 'PurchaseAmount', 'PurchaseFrequency',\n",
              "       'ProductQualityRating', 'DeliveryTimeRating', 'CustomerServiceRating',\n",
              "       'WebsiteEaseOfUseRating', 'ReturnRate', 'DiscountUsage',\n",
              "       'LoyaltyProgramMember', 'AgeGroup'],\n",
              "      dtype='object')"
            ]
          },
          "execution_count": 1040,
          "metadata": {},
          "output_type": "execute_result"
        }
      ],
      "source": [
        "df.columns"
      ]
    },
    {
      "cell_type": "code",
      "execution_count": null,
      "id": "da8b2141-61de-495e-9438-32895dcf32fd",
      "metadata": {
        "id": "da8b2141-61de-495e-9438-32895dcf32fd",
        "outputId": "23abc041-6e68-4eaf-f57b-c41bacbe4dab"
      },
      "outputs": [
        {
          "data": {
            "text/html": [
              "<div>\n",
              "<style scoped>\n",
              "    .dataframe tbody tr th:only-of-type {\n",
              "        vertical-align: middle;\n",
              "    }\n",
              "\n",
              "    .dataframe tbody tr th {\n",
              "        vertical-align: top;\n",
              "    }\n",
              "\n",
              "    .dataframe thead th {\n",
              "        text-align: right;\n",
              "    }\n",
              "</style>\n",
              "<table border=\"1\" class=\"dataframe\">\n",
              "  <thead>\n",
              "    <tr style=\"text-align: right;\">\n",
              "      <th></th>\n",
              "      <th>Gender</th>\n",
              "      <th>Female</th>\n",
              "      <th>Male</th>\n",
              "    </tr>\n",
              "  </thead>\n",
              "  <tbody>\n",
              "    <tr>\n",
              "      <th rowspan=\"4\" valign=\"top\">LoyaltyProgramMember</th>\n",
              "      <th>count</th>\n",
              "      <td>266</td>\n",
              "      <td>234</td>\n",
              "    </tr>\n",
              "    <tr>\n",
              "      <th>unique</th>\n",
              "      <td>2</td>\n",
              "      <td>2</td>\n",
              "    </tr>\n",
              "    <tr>\n",
              "      <th>top</th>\n",
              "      <td>Yes</td>\n",
              "      <td>Yes</td>\n",
              "    </tr>\n",
              "    <tr>\n",
              "      <th>freq</th>\n",
              "      <td>139</td>\n",
              "      <td>122</td>\n",
              "    </tr>\n",
              "    <tr>\n",
              "      <th rowspan=\"4\" valign=\"top\">AgeGroup</th>\n",
              "      <th>count</th>\n",
              "      <td>266</td>\n",
              "      <td>234</td>\n",
              "    </tr>\n",
              "    <tr>\n",
              "      <th>unique</th>\n",
              "      <td>3</td>\n",
              "      <td>3</td>\n",
              "    </tr>\n",
              "    <tr>\n",
              "      <th>top</th>\n",
              "      <td>Adults</td>\n",
              "      <td>Adults</td>\n",
              "    </tr>\n",
              "    <tr>\n",
              "      <th>freq</th>\n",
              "      <td>103</td>\n",
              "      <td>98</td>\n",
              "    </tr>\n",
              "  </tbody>\n",
              "</table>\n",
              "</div>"
            ],
            "text/plain": [
              "Gender                       Female    Male\n",
              "LoyaltyProgramMember count      266     234\n",
              "                     unique       2       2\n",
              "                     top        Yes     Yes\n",
              "                     freq       139     122\n",
              "AgeGroup             count      266     234\n",
              "                     unique       3       3\n",
              "                     top     Adults  Adults\n",
              "                     freq       103      98"
            ]
          },
          "execution_count": 1041,
          "metadata": {},
          "output_type": "execute_result"
        }
      ],
      "source": [
        "df.groupby(\"Gender\")[['LoyaltyProgramMember','AgeGroup']].describe().T"
      ]
    },
    {
      "cell_type": "code",
      "execution_count": null,
      "id": "cdc21db7-5be6-4220-979e-512cc844e3f5",
      "metadata": {
        "id": "cdc21db7-5be6-4220-979e-512cc844e3f5",
        "outputId": "7f244bf5-4b8a-47a2-f693-b87e1ec7d8d3"
      },
      "outputs": [
        {
          "data": {
            "text/html": [
              "<div>\n",
              "<style scoped>\n",
              "    .dataframe tbody tr th:only-of-type {\n",
              "        vertical-align: middle;\n",
              "    }\n",
              "\n",
              "    .dataframe tbody tr th {\n",
              "        vertical-align: top;\n",
              "    }\n",
              "\n",
              "    .dataframe thead th {\n",
              "        text-align: right;\n",
              "    }\n",
              "</style>\n",
              "<table border=\"1\" class=\"dataframe\">\n",
              "  <thead>\n",
              "    <tr style=\"text-align: right;\">\n",
              "      <th>LoyaltyProgramMember</th>\n",
              "      <th>No</th>\n",
              "      <th>Yes</th>\n",
              "    </tr>\n",
              "    <tr>\n",
              "      <th>Gender</th>\n",
              "      <th></th>\n",
              "      <th></th>\n",
              "    </tr>\n",
              "  </thead>\n",
              "  <tbody>\n",
              "    <tr>\n",
              "      <th>Female</th>\n",
              "      <td>127</td>\n",
              "      <td>139</td>\n",
              "    </tr>\n",
              "    <tr>\n",
              "      <th>Male</th>\n",
              "      <td>112</td>\n",
              "      <td>122</td>\n",
              "    </tr>\n",
              "  </tbody>\n",
              "</table>\n",
              "</div>"
            ],
            "text/plain": [
              "LoyaltyProgramMember   No  Yes\n",
              "Gender                        \n",
              "Female                127  139\n",
              "Male                  112  122"
            ]
          },
          "execution_count": 1042,
          "metadata": {},
          "output_type": "execute_result"
        }
      ],
      "source": [
        "# Grouping according to their Membership and Gender\n",
        "df2 = df.groupby([\"Gender\",'LoyaltyProgramMember']).size().unstack()\n",
        "df2"
      ]
    },
    {
      "cell_type": "code",
      "execution_count": null,
      "id": "e240dc60-5234-406f-b6b7-79ab9ca66e37",
      "metadata": {
        "id": "e240dc60-5234-406f-b6b7-79ab9ca66e37",
        "outputId": "55142d6e-9295-4c27-e54b-da4f688e2109"
      },
      "outputs": [
        {
          "data": {
            "text/plain": [
              "<Figure size 500x100 with 0 Axes>"
            ]
          },
          "metadata": {},
          "output_type": "display_data"
        },
        {
          "data": {
            "image/png": "[encoded data removed]",
            "text/plain": [
              "<Figure size 640x480 with 1 Axes>"
            ]
          },
          "metadata": {},
          "output_type": "display_data"
        }
      ],
      "source": [
        "plt.figure(figsize = (5,1))\n",
        "df2.plot(kind= \"bar\",color = [\"#1b4782\",\"#4679f6\"])\n",
        "plt.title(\"Loyal Program Membership Distribution According to Gender\",fontsize = 9, fontweight = 600)\n",
        "plt.xlabel(\"Gender\",fontsize = 8)\n",
        "plt.ylabel(\"Frequency\", fontsize = 8)\n",
        "plt.xticks(rotation = 0, fontsize = 7)\n",
        "plt.yticks(fontsize = 7)\n",
        "plt.show()"
      ]
    },
    {
      "cell_type": "code",
      "execution_count": null,
      "id": "ca05c389-423e-458a-b7aa-92b3eaf85e1e",
      "metadata": {
        "id": "ca05c389-423e-458a-b7aa-92b3eaf85e1e",
        "outputId": "9b081b2a-2b31-49dc-ebcf-945f9935168a"
      },
      "outputs": [
        {
          "data": {
            "text/html": [
              "<div>\n",
              "<style scoped>\n",
              "    .dataframe tbody tr th:only-of-type {\n",
              "        vertical-align: middle;\n",
              "    }\n",
              "\n",
              "    .dataframe tbody tr th {\n",
              "        vertical-align: top;\n",
              "    }\n",
              "\n",
              "    .dataframe thead th {\n",
              "        text-align: right;\n",
              "    }\n",
              "</style>\n",
              "<table border=\"1\" class=\"dataframe\">\n",
              "  <thead>\n",
              "    <tr style=\"text-align: right;\">\n",
              "      <th>AgeGroup</th>\n",
              "      <th>Adults</th>\n",
              "      <th>Older Adults</th>\n",
              "      <th>Young Adults</th>\n",
              "    </tr>\n",
              "    <tr>\n",
              "      <th>Gender</th>\n",
              "      <th></th>\n",
              "      <th></th>\n",
              "      <th></th>\n",
              "    </tr>\n",
              "  </thead>\n",
              "  <tbody>\n",
              "    <tr>\n",
              "      <th>Female</th>\n",
              "      <td>103</td>\n",
              "      <td>79</td>\n",
              "      <td>84</td>\n",
              "    </tr>\n",
              "    <tr>\n",
              "      <th>Male</th>\n",
              "      <td>98</td>\n",
              "      <td>74</td>\n",
              "      <td>62</td>\n",
              "    </tr>\n",
              "  </tbody>\n",
              "</table>\n",
              "</div>"
            ],
            "text/plain": [
              "AgeGroup  Adults  Older Adults  Young Adults\n",
              "Gender                                      \n",
              "Female       103            79            84\n",
              "Male          98            74            62"
            ]
          },
          "execution_count": 1044,
          "metadata": {},
          "output_type": "execute_result"
        }
      ],
      "source": [
        "#Grouping customers so as to see the age group distribution among the seperate genders\n",
        "df2_1 = df.groupby([\"Gender\",'AgeGroup']).size().unstack()\n",
        "df2_1"
      ]
    },
    {
      "cell_type": "code",
      "execution_count": null,
      "id": "b04bbc28-c00c-4bdf-805a-fc278d015b49",
      "metadata": {
        "id": "b04bbc28-c00c-4bdf-805a-fc278d015b49",
        "outputId": "abb8dd62-0abc-4759-98a7-abfe932e98c1"
      },
      "outputs": [
        {
          "data": {
            "text/plain": [
              "<Figure size 500x100 with 0 Axes>"
            ]
          },
          "metadata": {},
          "output_type": "display_data"
        },
        {
          "data": {
            "image/png": "[encoded data removed]",
            "text/plain": [
              "<Figure size 640x480 with 1 Axes>"
            ]
          },
          "metadata": {},
          "output_type": "display_data"
        }
      ],
      "source": [
        "# Visualizing The Gender Distribution Acoording to age groups.\n",
        "plt.figure(figsize = (5,1))\n",
        "df2_1.plot(kind= \"bar\",color = [\"#1b4782\",\"#4679f6\",\"#5619f4\"])\n",
        "plt.title(\"Age Group Distribution Acoording to Gender\",fontsize = 9, fontweight = 600)\n",
        "plt.xlabel(\"AgeGroup\",fontsize = 8)\n",
        "plt.ylabel(\"Frequency\", fontsize = 8)\n",
        "plt.xticks(rotation = 0, fontsize = 7)\n",
        "plt.yticks(fontsize = 7)\n",
        "plt.show()"
      ]
    },
    {
      "cell_type": "markdown",
      "id": "71a8fb5d-a18d-4ea2-b736-6701fe49d54e",
      "metadata": {
        "id": "71a8fb5d-a18d-4ea2-b736-6701fe49d54e"
      },
      "source": [
        "#### Grouping by Age Groups"
      ]
    },
    {
      "cell_type": "code",
      "execution_count": null,
      "id": "9cd2b783-3d88-4733-b856-9e9849d95266",
      "metadata": {
        "id": "9cd2b783-3d88-4733-b856-9e9849d95266",
        "outputId": "c3a49b98-746a-430c-8d5f-ce6220692f10"
      },
      "outputs": [
        {
          "data": {
            "text/html": [
              "<div>\n",
              "<style scoped>\n",
              "    .dataframe tbody tr th:only-of-type {\n",
              "        vertical-align: middle;\n",
              "    }\n",
              "\n",
              "    .dataframe tbody tr th {\n",
              "        vertical-align: top;\n",
              "    }\n",
              "\n",
              "    .dataframe thead th {\n",
              "        text-align: right;\n",
              "    }\n",
              "</style>\n",
              "<table border=\"1\" class=\"dataframe\">\n",
              "  <thead>\n",
              "    <tr style=\"text-align: right;\">\n",
              "      <th></th>\n",
              "      <th>AgeGroup</th>\n",
              "      <th>Adults</th>\n",
              "      <th>Older Adults</th>\n",
              "      <th>Young Adults</th>\n",
              "    </tr>\n",
              "  </thead>\n",
              "  <tbody>\n",
              "    <tr>\n",
              "      <th rowspan=\"8\" valign=\"top\">PurchaseAmount</th>\n",
              "      <th>count</th>\n",
              "      <td>201.000000</td>\n",
              "      <td>153.000000</td>\n",
              "      <td>146.000000</td>\n",
              "    </tr>\n",
              "    <tr>\n",
              "      <th>mean</th>\n",
              "      <td>1092.443760</td>\n",
              "      <td>1058.955391</td>\n",
              "      <td>1033.725991</td>\n",
              "    </tr>\n",
              "    <tr>\n",
              "      <th>std</th>\n",
              "      <td>562.855602</td>\n",
              "      <td>603.074149</td>\n",
              "      <td>591.768713</td>\n",
              "    </tr>\n",
              "    <tr>\n",
              "      <th>min</th>\n",
              "      <td>51.799790</td>\n",
              "      <td>81.996526</td>\n",
              "      <td>79.547592</td>\n",
              "    </tr>\n",
              "    <tr>\n",
              "      <th>25%</th>\n",
              "      <td>597.192982</td>\n",
              "      <td>511.086642</td>\n",
              "      <td>520.294258</td>\n",
              "    </tr>\n",
              "    <tr>\n",
              "      <th>50%</th>\n",
              "      <td>1122.675236</td>\n",
              "      <td>1034.540245</td>\n",
              "      <td>1076.931935</td>\n",
              "    </tr>\n",
              "    <tr>\n",
              "      <th>75%</th>\n",
              "      <td>1572.353267</td>\n",
              "      <td>1609.103776</td>\n",
              "      <td>1611.863576</td>\n",
              "    </tr>\n",
              "    <tr>\n",
              "      <th>max</th>\n",
              "      <td>1995.569712</td>\n",
              "      <td>1999.655968</td>\n",
              "      <td>1990.529386</td>\n",
              "    </tr>\n",
              "    <tr>\n",
              "      <th rowspan=\"8\" valign=\"top\">PurchaseFrequency</th>\n",
              "      <th>count</th>\n",
              "      <td>201.000000</td>\n",
              "      <td>153.000000</td>\n",
              "      <td>146.000000</td>\n",
              "    </tr>\n",
              "    <tr>\n",
              "      <th>mean</th>\n",
              "      <td>13.850746</td>\n",
              "      <td>15.209150</td>\n",
              "      <td>13.993151</td>\n",
              "    </tr>\n",
              "    <tr>\n",
              "      <th>std</th>\n",
              "      <td>8.286592</td>\n",
              "      <td>8.381255</td>\n",
              "      <td>7.684733</td>\n",
              "    </tr>\n",
              "    <tr>\n",
              "      <th>min</th>\n",
              "      <td>1.000000</td>\n",
              "      <td>1.000000</td>\n",
              "      <td>1.000000</td>\n",
              "    </tr>\n",
              "    <tr>\n",
              "      <th>25%</th>\n",
              "      <td>7.000000</td>\n",
              "      <td>8.000000</td>\n",
              "      <td>7.250000</td>\n",
              "    </tr>\n",
              "    <tr>\n",
              "      <th>50%</th>\n",
              "      <td>14.000000</td>\n",
              "      <td>14.000000</td>\n",
              "      <td>13.000000</td>\n",
              "    </tr>\n",
              "    <tr>\n",
              "      <th>75%</th>\n",
              "      <td>21.000000</td>\n",
              "      <td>23.000000</td>\n",
              "      <td>21.000000</td>\n",
              "    </tr>\n",
              "    <tr>\n",
              "      <th>max</th>\n",
              "      <td>29.000000</td>\n",
              "      <td>29.000000</td>\n",
              "      <td>29.000000</td>\n",
              "    </tr>\n",
              "    <tr>\n",
              "      <th rowspan=\"8\" valign=\"top\">DiscountUsage</th>\n",
              "      <th>count</th>\n",
              "      <td>201.000000</td>\n",
              "      <td>153.000000</td>\n",
              "      <td>146.000000</td>\n",
              "    </tr>\n",
              "    <tr>\n",
              "      <th>mean</th>\n",
              "      <td>264.275341</td>\n",
              "      <td>241.292488</td>\n",
              "      <td>243.516512</td>\n",
              "    </tr>\n",
              "    <tr>\n",
              "      <th>std</th>\n",
              "      <td>147.222702</td>\n",
              "      <td>134.846073</td>\n",
              "      <td>139.921867</td>\n",
              "    </tr>\n",
              "    <tr>\n",
              "      <th>min</th>\n",
              "      <td>0.772696</td>\n",
              "      <td>0.944364</td>\n",
              "      <td>8.201257</td>\n",
              "    </tr>\n",
              "    <tr>\n",
              "      <th>25%</th>\n",
              "      <td>147.988353</td>\n",
              "      <td>125.072737</td>\n",
              "      <td>119.392174</td>\n",
              "    </tr>\n",
              "    <tr>\n",
              "      <th>50%</th>\n",
              "      <td>264.023259</td>\n",
              "      <td>239.628735</td>\n",
              "      <td>249.548355</td>\n",
              "    </tr>\n",
              "    <tr>\n",
              "      <th>75%</th>\n",
              "      <td>393.034780</td>\n",
              "      <td>352.906854</td>\n",
              "      <td>371.893287</td>\n",
              "    </tr>\n",
              "    <tr>\n",
              "      <th>max</th>\n",
              "      <td>499.658742</td>\n",
              "      <td>499.813315</td>\n",
              "      <td>490.426624</td>\n",
              "    </tr>\n",
              "  </tbody>\n",
              "</table>\n",
              "</div>"
            ],
            "text/plain": [
              "AgeGroup                      Adults  Older Adults  Young Adults\n",
              "PurchaseAmount    count   201.000000    153.000000    146.000000\n",
              "                  mean   1092.443760   1058.955391   1033.725991\n",
              "                  std     562.855602    603.074149    591.768713\n",
              "                  min      51.799790     81.996526     79.547592\n",
              "                  25%     597.192982    511.086642    520.294258\n",
              "                  50%    1122.675236   1034.540245   1076.931935\n",
              "                  75%    1572.353267   1609.103776   1611.863576\n",
              "                  max    1995.569712   1999.655968   1990.529386\n",
              "PurchaseFrequency count   201.000000    153.000000    146.000000\n",
              "                  mean     13.850746     15.209150     13.993151\n",
              "                  std       8.286592      8.381255      7.684733\n",
              "                  min       1.000000      1.000000      1.000000\n",
              "                  25%       7.000000      8.000000      7.250000\n",
              "                  50%      14.000000     14.000000     13.000000\n",
              "                  75%      21.000000     23.000000     21.000000\n",
              "                  max      29.000000     29.000000     29.000000\n",
              "DiscountUsage     count   201.000000    153.000000    146.000000\n",
              "                  mean    264.275341    241.292488    243.516512\n",
              "                  std     147.222702    134.846073    139.921867\n",
              "                  min       0.772696      0.944364      8.201257\n",
              "                  25%     147.988353    125.072737    119.392174\n",
              "                  50%     264.023259    239.628735    249.548355\n",
              "                  75%     393.034780    352.906854    371.893287\n",
              "                  max     499.658742    499.813315    490.426624"
            ]
          },
          "execution_count": 1046,
          "metadata": {},
          "output_type": "execute_result"
        }
      ],
      "source": [
        "df.groupby(\"AgeGroup\")[['PurchaseAmount','PurchaseFrequency','DiscountUsage']].describe().T"
      ]
    },
    {
      "cell_type": "code",
      "execution_count": null,
      "id": "5100e59e-4545-487d-8ea3-2e7104da6d77",
      "metadata": {
        "id": "5100e59e-4545-487d-8ea3-2e7104da6d77",
        "outputId": "259155af-9223-4931-c3e4-b2859b3439f8"
      },
      "outputs": [
        {
          "data": {
            "image/png": "[encoded data removed]",
            "text/plain": [
              "<Figure size 500x100 with 1 Axes>"
            ]
          },
          "metadata": {},
          "output_type": "display_data"
        }
      ],
      "source": [
        "purchase_by_age_group = df.groupby(\"AgeGroup\")[\"PurchaseAmount\"].mean()\n",
        "\n",
        "#Plotting the distribution\n",
        "plt.figure(figsize = (5,1))\n",
        "purchase_by_age_group.plot(kind=\"barh\", color = \"#5619f4\")\n",
        "plt.title(\"Average Purchases By Age Group\",fontsize = 10, fontweight = 600)\n",
        "plt.ylabel(\"Age Group\",fontsize = 9)\n",
        "plt.xlabel(\"Average Purchase Amount\", fontsize = 9)\n",
        "plt.xticks(rotation = 0, fontsize = 7)\n",
        "plt.yticks(fontsize = 7)\n",
        "plt.show()\n"
      ]
    },
    {
      "cell_type": "code",
      "execution_count": null,
      "id": "bd300afa-2824-4a5a-833e-d3e5cc2c5c3a",
      "metadata": {
        "scrolled": true,
        "id": "bd300afa-2824-4a5a-833e-d3e5cc2c5c3a",
        "outputId": "b92fba3b-e5f0-4a22-d7fc-303c419bc269"
      },
      "outputs": [
        {
          "data": {
            "text/html": [
              "<div>\n",
              "<style scoped>\n",
              "    .dataframe tbody tr th:only-of-type {\n",
              "        vertical-align: middle;\n",
              "    }\n",
              "\n",
              "    .dataframe tbody tr th {\n",
              "        vertical-align: top;\n",
              "    }\n",
              "\n",
              "    .dataframe thead th {\n",
              "        text-align: right;\n",
              "    }\n",
              "</style>\n",
              "<table border=\"1\" class=\"dataframe\">\n",
              "  <thead>\n",
              "    <tr style=\"text-align: right;\">\n",
              "      <th></th>\n",
              "      <th>AgeGroup</th>\n",
              "      <th>Adults</th>\n",
              "      <th>Older Adults</th>\n",
              "      <th>Young Adults</th>\n",
              "    </tr>\n",
              "  </thead>\n",
              "  <tbody>\n",
              "    <tr>\n",
              "      <th rowspan=\"8\" valign=\"top\">ProductQualityRating</th>\n",
              "      <th>count</th>\n",
              "      <td>201.000000</td>\n",
              "      <td>153.000000</td>\n",
              "      <td>146.000000</td>\n",
              "    </tr>\n",
              "    <tr>\n",
              "      <th>mean</th>\n",
              "      <td>3.000000</td>\n",
              "      <td>2.803922</td>\n",
              "      <td>2.979452</td>\n",
              "    </tr>\n",
              "    <tr>\n",
              "      <th>std</th>\n",
              "      <td>1.410674</td>\n",
              "      <td>1.428372</td>\n",
              "      <td>1.391943</td>\n",
              "    </tr>\n",
              "    <tr>\n",
              "      <th>min</th>\n",
              "      <td>1.000000</td>\n",
              "      <td>1.000000</td>\n",
              "      <td>1.000000</td>\n",
              "    </tr>\n",
              "    <tr>\n",
              "      <th>25%</th>\n",
              "      <td>2.000000</td>\n",
              "      <td>2.000000</td>\n",
              "      <td>2.000000</td>\n",
              "    </tr>\n",
              "    <tr>\n",
              "      <th>50%</th>\n",
              "      <td>3.000000</td>\n",
              "      <td>3.000000</td>\n",
              "      <td>3.000000</td>\n",
              "    </tr>\n",
              "    <tr>\n",
              "      <th>75%</th>\n",
              "      <td>4.000000</td>\n",
              "      <td>4.000000</td>\n",
              "      <td>4.000000</td>\n",
              "    </tr>\n",
              "    <tr>\n",
              "      <th>max</th>\n",
              "      <td>5.000000</td>\n",
              "      <td>5.000000</td>\n",
              "      <td>5.000000</td>\n",
              "    </tr>\n",
              "    <tr>\n",
              "      <th rowspan=\"8\" valign=\"top\">DeliveryTimeRating</th>\n",
              "      <th>count</th>\n",
              "      <td>201.000000</td>\n",
              "      <td>153.000000</td>\n",
              "      <td>146.000000</td>\n",
              "    </tr>\n",
              "    <tr>\n",
              "      <th>mean</th>\n",
              "      <td>2.925373</td>\n",
              "      <td>3.091503</td>\n",
              "      <td>3.034247</td>\n",
              "    </tr>\n",
              "    <tr>\n",
              "      <th>std</th>\n",
              "      <td>1.345141</td>\n",
              "      <td>1.425148</td>\n",
              "      <td>1.356539</td>\n",
              "    </tr>\n",
              "    <tr>\n",
              "      <th>min</th>\n",
              "      <td>1.000000</td>\n",
              "      <td>1.000000</td>\n",
              "      <td>1.000000</td>\n",
              "    </tr>\n",
              "    <tr>\n",
              "      <th>25%</th>\n",
              "      <td>2.000000</td>\n",
              "      <td>2.000000</td>\n",
              "      <td>2.000000</td>\n",
              "    </tr>\n",
              "    <tr>\n",
              "      <th>50%</th>\n",
              "      <td>3.000000</td>\n",
              "      <td>3.000000</td>\n",
              "      <td>3.000000</td>\n",
              "    </tr>\n",
              "    <tr>\n",
              "      <th>75%</th>\n",
              "      <td>4.000000</td>\n",
              "      <td>4.000000</td>\n",
              "      <td>4.000000</td>\n",
              "    </tr>\n",
              "    <tr>\n",
              "      <th>max</th>\n",
              "      <td>5.000000</td>\n",
              "      <td>5.000000</td>\n",
              "      <td>5.000000</td>\n",
              "    </tr>\n",
              "    <tr>\n",
              "      <th rowspan=\"8\" valign=\"top\">CustomerServiceRating</th>\n",
              "      <th>count</th>\n",
              "      <td>201.000000</td>\n",
              "      <td>153.000000</td>\n",
              "      <td>146.000000</td>\n",
              "    </tr>\n",
              "    <tr>\n",
              "      <th>mean</th>\n",
              "      <td>3.104478</td>\n",
              "      <td>3.013072</td>\n",
              "      <td>3.109589</td>\n",
              "    </tr>\n",
              "    <tr>\n",
              "      <th>std</th>\n",
              "      <td>1.450527</td>\n",
              "      <td>1.307805</td>\n",
              "      <td>1.481487</td>\n",
              "    </tr>\n",
              "    <tr>\n",
              "      <th>min</th>\n",
              "      <td>1.000000</td>\n",
              "      <td>1.000000</td>\n",
              "      <td>1.000000</td>\n",
              "    </tr>\n",
              "    <tr>\n",
              "      <th>25%</th>\n",
              "      <td>2.000000</td>\n",
              "      <td>2.000000</td>\n",
              "      <td>2.000000</td>\n",
              "    </tr>\n",
              "    <tr>\n",
              "      <th>50%</th>\n",
              "      <td>3.000000</td>\n",
              "      <td>3.000000</td>\n",
              "      <td>3.000000</td>\n",
              "    </tr>\n",
              "    <tr>\n",
              "      <th>75%</th>\n",
              "      <td>4.000000</td>\n",
              "      <td>4.000000</td>\n",
              "      <td>4.000000</td>\n",
              "    </tr>\n",
              "    <tr>\n",
              "      <th>max</th>\n",
              "      <td>5.000000</td>\n",
              "      <td>5.000000</td>\n",
              "      <td>5.000000</td>\n",
              "    </tr>\n",
              "    <tr>\n",
              "      <th rowspan=\"8\" valign=\"top\">WebsiteEaseOfUseRating</th>\n",
              "      <th>count</th>\n",
              "      <td>201.000000</td>\n",
              "      <td>153.000000</td>\n",
              "      <td>146.000000</td>\n",
              "    </tr>\n",
              "    <tr>\n",
              "      <th>mean</th>\n",
              "      <td>3.124378</td>\n",
              "      <td>3.104575</td>\n",
              "      <td>3.000000</td>\n",
              "    </tr>\n",
              "    <tr>\n",
              "      <th>std</th>\n",
              "      <td>1.356264</td>\n",
              "      <td>1.465226</td>\n",
              "      <td>1.447947</td>\n",
              "    </tr>\n",
              "    <tr>\n",
              "      <th>min</th>\n",
              "      <td>1.000000</td>\n",
              "      <td>1.000000</td>\n",
              "      <td>1.000000</td>\n",
              "    </tr>\n",
              "    <tr>\n",
              "      <th>25%</th>\n",
              "      <td>2.000000</td>\n",
              "      <td>2.000000</td>\n",
              "      <td>2.000000</td>\n",
              "    </tr>\n",
              "    <tr>\n",
              "      <th>50%</th>\n",
              "      <td>3.000000</td>\n",
              "      <td>3.000000</td>\n",
              "      <td>3.000000</td>\n",
              "    </tr>\n",
              "    <tr>\n",
              "      <th>75%</th>\n",
              "      <td>4.000000</td>\n",
              "      <td>5.000000</td>\n",
              "      <td>4.000000</td>\n",
              "    </tr>\n",
              "    <tr>\n",
              "      <th>max</th>\n",
              "      <td>5.000000</td>\n",
              "      <td>5.000000</td>\n",
              "      <td>5.000000</td>\n",
              "    </tr>\n",
              "    <tr>\n",
              "      <th rowspan=\"8\" valign=\"top\">ReturnRate</th>\n",
              "      <th>count</th>\n",
              "      <td>201.000000</td>\n",
              "      <td>153.000000</td>\n",
              "      <td>146.000000</td>\n",
              "    </tr>\n",
              "    <tr>\n",
              "      <th>mean</th>\n",
              "      <td>0.250149</td>\n",
              "      <td>0.261961</td>\n",
              "      <td>0.245068</td>\n",
              "    </tr>\n",
              "    <tr>\n",
              "      <th>std</th>\n",
              "      <td>0.151243</td>\n",
              "      <td>0.151554</td>\n",
              "      <td>0.145977</td>\n",
              "    </tr>\n",
              "    <tr>\n",
              "      <th>min</th>\n",
              "      <td>0.000000</td>\n",
              "      <td>0.000000</td>\n",
              "      <td>0.000000</td>\n",
              "    </tr>\n",
              "    <tr>\n",
              "      <th>25%</th>\n",
              "      <td>0.110000</td>\n",
              "      <td>0.120000</td>\n",
              "      <td>0.120000</td>\n",
              "    </tr>\n",
              "    <tr>\n",
              "      <th>50%</th>\n",
              "      <td>0.260000</td>\n",
              "      <td>0.270000</td>\n",
              "      <td>0.255000</td>\n",
              "    </tr>\n",
              "    <tr>\n",
              "      <th>75%</th>\n",
              "      <td>0.380000</td>\n",
              "      <td>0.400000</td>\n",
              "      <td>0.360000</td>\n",
              "    </tr>\n",
              "    <tr>\n",
              "      <th>max</th>\n",
              "      <td>0.500000</td>\n",
              "      <td>0.500000</td>\n",
              "      <td>0.500000</td>\n",
              "    </tr>\n",
              "  </tbody>\n",
              "</table>\n",
              "</div>"
            ],
            "text/plain": [
              "AgeGroup                          Adults  Older Adults  Young Adults\n",
              "ProductQualityRating   count  201.000000    153.000000    146.000000\n",
              "                       mean     3.000000      2.803922      2.979452\n",
              "                       std      1.410674      1.428372      1.391943\n",
              "                       min      1.000000      1.000000      1.000000\n",
              "                       25%      2.000000      2.000000      2.000000\n",
              "                       50%      3.000000      3.000000      3.000000\n",
              "                       75%      4.000000      4.000000      4.000000\n",
              "                       max      5.000000      5.000000      5.000000\n",
              "DeliveryTimeRating     count  201.000000    153.000000    146.000000\n",
              "                       mean     2.925373      3.091503      3.034247\n",
              "                       std      1.345141      1.425148      1.356539\n",
              "                       min      1.000000      1.000000      1.000000\n",
              "                       25%      2.000000      2.000000      2.000000\n",
              "                       50%      3.000000      3.000000      3.000000\n",
              "                       75%      4.000000      4.000000      4.000000\n",
              "                       max      5.000000      5.000000      5.000000\n",
              "CustomerServiceRating  count  201.000000    153.000000    146.000000\n",
              "                       mean     3.104478      3.013072      3.109589\n",
              "                       std      1.450527      1.307805      1.481487\n",
              "                       min      1.000000      1.000000      1.000000\n",
              "                       25%      2.000000      2.000000      2.000000\n",
              "                       50%      3.000000      3.000000      3.000000\n",
              "                       75%      4.000000      4.000000      4.000000\n",
              "                       max      5.000000      5.000000      5.000000\n",
              "WebsiteEaseOfUseRating count  201.000000    153.000000    146.000000\n",
              "                       mean     3.124378      3.104575      3.000000\n",
              "                       std      1.356264      1.465226      1.447947\n",
              "                       min      1.000000      1.000000      1.000000\n",
              "                       25%      2.000000      2.000000      2.000000\n",
              "                       50%      3.000000      3.000000      3.000000\n",
              "                       75%      4.000000      5.000000      4.000000\n",
              "                       max      5.000000      5.000000      5.000000\n",
              "ReturnRate             count  201.000000    153.000000    146.000000\n",
              "                       mean     0.250149      0.261961      0.245068\n",
              "                       std      0.151243      0.151554      0.145977\n",
              "                       min      0.000000      0.000000      0.000000\n",
              "                       25%      0.110000      0.120000      0.120000\n",
              "                       50%      0.260000      0.270000      0.255000\n",
              "                       75%      0.380000      0.400000      0.360000\n",
              "                       max      0.500000      0.500000      0.500000"
            ]
          },
          "execution_count": 1048,
          "metadata": {},
          "output_type": "execute_result"
        }
      ],
      "source": [
        "df.groupby(\"AgeGroup\")[['ProductQualityRating', 'DeliveryTimeRating', 'CustomerServiceRating',\n",
        "       'WebsiteEaseOfUseRating', 'ReturnRate']].describe().T"
      ]
    },
    {
      "cell_type": "code",
      "execution_count": null,
      "id": "f85e9bf8-aa44-48ad-a42e-6e714928976d",
      "metadata": {
        "id": "f85e9bf8-aa44-48ad-a42e-6e714928976d",
        "outputId": "7c6fcf67-67ae-4d5e-a287-ddfa1c7e45b7"
      },
      "outputs": [
        {
          "data": {
            "text/html": [
              "<div>\n",
              "<style scoped>\n",
              "    .dataframe tbody tr th:only-of-type {\n",
              "        vertical-align: middle;\n",
              "    }\n",
              "\n",
              "    .dataframe tbody tr th {\n",
              "        vertical-align: top;\n",
              "    }\n",
              "\n",
              "    .dataframe thead th {\n",
              "        text-align: right;\n",
              "    }\n",
              "</style>\n",
              "<table border=\"1\" class=\"dataframe\">\n",
              "  <thead>\n",
              "    <tr style=\"text-align: right;\">\n",
              "      <th></th>\n",
              "      <th>AgeGroup</th>\n",
              "      <th>Adults</th>\n",
              "      <th>Older Adults</th>\n",
              "      <th>Young Adults</th>\n",
              "    </tr>\n",
              "  </thead>\n",
              "  <tbody>\n",
              "    <tr>\n",
              "      <th rowspan=\"4\" valign=\"top\">LoyaltyProgramMember</th>\n",
              "      <th>count</th>\n",
              "      <td>201</td>\n",
              "      <td>153</td>\n",
              "      <td>146</td>\n",
              "    </tr>\n",
              "    <tr>\n",
              "      <th>unique</th>\n",
              "      <td>2</td>\n",
              "      <td>2</td>\n",
              "      <td>2</td>\n",
              "    </tr>\n",
              "    <tr>\n",
              "      <th>top</th>\n",
              "      <td>Yes</td>\n",
              "      <td>No</td>\n",
              "      <td>Yes</td>\n",
              "    </tr>\n",
              "    <tr>\n",
              "      <th>freq</th>\n",
              "      <td>109</td>\n",
              "      <td>79</td>\n",
              "      <td>78</td>\n",
              "    </tr>\n",
              "    <tr>\n",
              "      <th rowspan=\"4\" valign=\"top\">Gender</th>\n",
              "      <th>count</th>\n",
              "      <td>201</td>\n",
              "      <td>153</td>\n",
              "      <td>146</td>\n",
              "    </tr>\n",
              "    <tr>\n",
              "      <th>unique</th>\n",
              "      <td>2</td>\n",
              "      <td>2</td>\n",
              "      <td>2</td>\n",
              "    </tr>\n",
              "    <tr>\n",
              "      <th>top</th>\n",
              "      <td>Female</td>\n",
              "      <td>Female</td>\n",
              "      <td>Female</td>\n",
              "    </tr>\n",
              "    <tr>\n",
              "      <th>freq</th>\n",
              "      <td>103</td>\n",
              "      <td>79</td>\n",
              "      <td>84</td>\n",
              "    </tr>\n",
              "  </tbody>\n",
              "</table>\n",
              "</div>"
            ],
            "text/plain": [
              "AgeGroup                     Adults Older Adults Young Adults\n",
              "LoyaltyProgramMember count      201          153          146\n",
              "                     unique       2            2            2\n",
              "                     top        Yes           No          Yes\n",
              "                     freq       109           79           78\n",
              "Gender               count      201          153          146\n",
              "                     unique       2            2            2\n",
              "                     top     Female       Female       Female\n",
              "                     freq       103           79           84"
            ]
          },
          "execution_count": 1049,
          "metadata": {},
          "output_type": "execute_result"
        }
      ],
      "source": [
        "df.groupby('AgeGroup')[['LoyaltyProgramMember', 'Gender']].describe().T"
      ]
    },
    {
      "cell_type": "code",
      "execution_count": null,
      "id": "e44ce062-9271-4ada-baf6-a53854afd918",
      "metadata": {
        "id": "e44ce062-9271-4ada-baf6-a53854afd918",
        "outputId": "b833158d-ff43-4fe3-f911-1fb06181d3b0"
      },
      "outputs": [
        {
          "data": {
            "text/html": [
              "<div>\n",
              "<style scoped>\n",
              "    .dataframe tbody tr th:only-of-type {\n",
              "        vertical-align: middle;\n",
              "    }\n",
              "\n",
              "    .dataframe tbody tr th {\n",
              "        vertical-align: top;\n",
              "    }\n",
              "\n",
              "    .dataframe thead th {\n",
              "        text-align: right;\n",
              "    }\n",
              "</style>\n",
              "<table border=\"1\" class=\"dataframe\">\n",
              "  <thead>\n",
              "    <tr style=\"text-align: right;\">\n",
              "      <th>LoyaltyProgramMember</th>\n",
              "      <th>No</th>\n",
              "      <th>Yes</th>\n",
              "    </tr>\n",
              "    <tr>\n",
              "      <th>AgeGroup</th>\n",
              "      <th></th>\n",
              "      <th></th>\n",
              "    </tr>\n",
              "  </thead>\n",
              "  <tbody>\n",
              "    <tr>\n",
              "      <th>Adults</th>\n",
              "      <td>92</td>\n",
              "      <td>109</td>\n",
              "    </tr>\n",
              "    <tr>\n",
              "      <th>Older Adults</th>\n",
              "      <td>79</td>\n",
              "      <td>74</td>\n",
              "    </tr>\n",
              "    <tr>\n",
              "      <th>Young Adults</th>\n",
              "      <td>68</td>\n",
              "      <td>78</td>\n",
              "    </tr>\n",
              "  </tbody>\n",
              "</table>\n",
              "</div>"
            ],
            "text/plain": [
              "LoyaltyProgramMember  No  Yes\n",
              "AgeGroup                     \n",
              "Adults                92  109\n",
              "Older Adults          79   74\n",
              "Young Adults          68   78"
            ]
          },
          "execution_count": 1050,
          "metadata": {},
          "output_type": "execute_result"
        }
      ],
      "source": [
        "# Grouping the Customers First By AgeGroup then By their Memberships\n",
        "df3 = df.groupby([\"AgeGroup\",\"LoyaltyProgramMember\"]).size().unstack()\n",
        "df3"
      ]
    },
    {
      "cell_type": "code",
      "execution_count": null,
      "id": "6d8945d8-022b-4932-9e7f-118e8c1068a4",
      "metadata": {
        "id": "6d8945d8-022b-4932-9e7f-118e8c1068a4",
        "outputId": "e0d4eba5-cf7d-4439-cf54-7e51b06921a4"
      },
      "outputs": [
        {
          "data": {
            "text/plain": [
              "<Figure size 500x100 with 0 Axes>"
            ]
          },
          "metadata": {},
          "output_type": "display_data"
        },
        {
          "data": {
            "image/png": "[encoded data removed]",
            "text/plain": [
              "<Figure size 640x480 with 1 Axes>"
            ]
          },
          "metadata": {},
          "output_type": "display_data"
        }
      ],
      "source": [
        "# Visualizing The members of the Loyal Program Members\n",
        "plt.figure(figsize = (5,1))\n",
        "df3.plot(kind= \"bar\",color = [\"#1b4782\",\"#4679f6\"])\n",
        "plt.title(\"Loyal Program Membership Distribution According to AgeGroup \",fontsize = 9, fontweight = 600)\n",
        "plt.xlabel(\"Age Group\",fontsize = 8)\n",
        "plt.ylabel(\"Frequency\", fontsize = 8)\n",
        "plt.xticks(rotation = 0, fontsize = 7)\n",
        "plt.yticks(fontsize = 7)\n",
        "plt.show()"
      ]
    },
    {
      "cell_type": "markdown",
      "id": "5f0fa4a9-0dd8-4598-81ec-950042610ec2",
      "metadata": {
        "id": "5f0fa4a9-0dd8-4598-81ec-950042610ec2"
      },
      "source": [
        "#### **Correlation between  all the Columns**"
      ]
    },
    {
      "cell_type": "code",
      "execution_count": null,
      "id": "e8912ea3-ee84-49a1-9cf7-734023cd8525",
      "metadata": {
        "id": "e8912ea3-ee84-49a1-9cf7-734023cd8525",
        "outputId": "5d019ad2-678b-41a7-9635-0212328db9d4"
      },
      "outputs": [
        {
          "data": {
            "text/plain": [
              "Index(['Age', 'Gender', 'PurchaseAmount', 'PurchaseFrequency',\n",
              "       'ProductQualityRating', 'DeliveryTimeRating', 'CustomerServiceRating',\n",
              "       'WebsiteEaseOfUseRating', 'ReturnRate', 'DiscountUsage',\n",
              "       'LoyaltyProgramMember', 'AgeGroup'],\n",
              "      dtype='object')"
            ]
          },
          "execution_count": 1052,
          "metadata": {},
          "output_type": "execute_result"
        }
      ],
      "source": [
        "df.columns"
      ]
    },
    {
      "cell_type": "code",
      "execution_count": null,
      "id": "8caba156-ed6c-40a9-a802-75c3223a2ef7",
      "metadata": {
        "id": "8caba156-ed6c-40a9-a802-75c3223a2ef7"
      },
      "outputs": [],
      "source": [
        "#Creating a new dataframe from the old one but excluding the agegroup column, since it's numerical variant exists as the age column.\n",
        "df_corr = df.drop(columns =['AgeGroup'] )"
      ]
    },
    {
      "cell_type": "code",
      "execution_count": null,
      "id": "9242b3df-9d1c-48d0-9f65-b61b87eb28ca",
      "metadata": {
        "id": "9242b3df-9d1c-48d0-9f65-b61b87eb28ca"
      },
      "outputs": [],
      "source": [
        "#Encoding the two categorical columns to enable me get a correlation.\n",
        "df_corr['Gender'] = df_corr['Gender'].replace({\"Male\":0,\"Female\":1})\n",
        "df_corr['LoyaltyProgramMember'] = df_corr['LoyaltyProgramMember'].replace({\"Yes\":1,\"No\":0})"
      ]
    },
    {
      "cell_type": "code",
      "execution_count": null,
      "id": "5b5b9728-3a6b-4170-911d-91d67f957c79",
      "metadata": {
        "id": "5b5b9728-3a6b-4170-911d-91d67f957c79",
        "outputId": "0dd4c334-940c-4895-c631-fd8b5a0e2adc"
      },
      "outputs": [
        {
          "data": {
            "image/png": "[encoded data removed]",
            "text/plain": [
              "<Figure size 1200x500 with 2 Axes>"
            ]
          },
          "metadata": {},
          "output_type": "display_data"
        }
      ],
      "source": [
        "# Visualizing the Correlation Using a HeatMap.\n",
        "plt.figure(figsize=(12, 5))\n",
        "sns.heatmap(df_corr.corr(), annot=True, cmap='coolwarm')\n",
        "plt.title('Correlation Heatmap', fontweight = 600)\n",
        "plt.xticks(rotation = 90, fontsize = 7)\n",
        "plt.yticks(fontsize = 7)\n",
        "plt.show()"
      ]
    },
    {
      "cell_type": "markdown",
      "id": "4b071fda-edc6-42a7-b051-74c2c53a1fd0",
      "metadata": {
        "id": "4b071fda-edc6-42a7-b051-74c2c53a1fd0"
      },
      "source": [
        "## **Summary**\n",
        "\n",
        "**Customer Satisfaction Analysis**\n",
        "\n",
        "This project analyses the Customer Satisfaction Analysis dataset to uncover patterns, relationships and actionable insights about customer behaviour and satisfaction.\n",
        "\n",
        "**Objectives**\n",
        "\n",
        "The goal of this project is to answer the following questions based on the given dataset :\n",
        "\n",
        "1. What are the key drivers of customer satisfaction or dissatisfaction.\n",
        "2. What suprised you about the data\n",
        "3. What next steps would you recommend for the business\n",
        "\n",
        "**About Columns**\n",
        "1. `ReturnRate`: The ratio of goods returned by customers in relation to their total purchase.(Inverse relationship with satisfaction)\n",
        "2. `LoyaltyProgram` : This is a pogram that encourages customer patronage via freebies, vouhers, discounts and other means.\n",
        "3. The other columns are well explanatory.\n",
        "4. The dataset is sorted on the `CustomerID` column, so the order of placement does not have any meaning.\n",
        "------\n",
        "\n",
        "**Demographic Findings**\n",
        "\n",
        "1. **How many are the Customers ?** 500\n",
        "2. **Whats is the distribution of males and Females ?** We had `53.2% Female` and `46.8% Male` customers. A fair distribution if you ask me.\n",
        "3. **Whats is the Age distribution like ?** Most of our customers were Adults from `ages 35-54`. The other half our customers were a equal mix of `young adults 18-34` and `Older Adults 55-69`. It seems like the store has a 18+ policy.\n",
        "4. **What's the general overview of the ratings ?** From my analysis, Customers gave us an `average rating of 3` across all boards. Which is a Good rating.\n",
        "5. **What's the Sum Total purchase ?** The Store grossed a `Total Purchase of 532,525.37.`\n",
        "6. **How much of our customers joined the loyal members program ?** `A little above 50%` of our customers did join the program.\n",
        "\n",
        "---------\n",
        "**Key Findings**\n",
        "\n",
        "1. **What are the key drivers of customer satisfaction or dissatisfaction.** : `DiscountUsage`,`DeliveryTime`.\n",
        "2. **What suprised you about the data** : I don't really know but i guess the low/random correlation between columns.\n",
        "3. **What next steps would you recommend for the business** : from my experience with the dataset.\n",
        "   - I'll Advise an improvement on delivery time\n",
        "   - I'll encourage more discount offers.\n",
        "   - I'll advise more members be added to the Loyalty Program Scheme.\n",
        "   - I'll advise an improvement on the Website experience.\n",
        "   - The company should investigate the condition of the products that were returned and why they were returned\n",
        "   - An improvement in the quality of products sold.\n",
        "\n",
        "**Delivery Time**\n",
        "- Customers are more happy with fast deliveries hence the positive correlation with the `CustomerServiceRating` (+0.039).\n",
        "- The poorer the delivery rating the higher the return rate (-0.042 correlation) This might idicate that the condition of the purchase looked better on the web than in real life or they were no longer interested due to the time wasting.\n",
        "\n",
        "\n",
        "**Discount Offers**\n",
        "- The Discounts encourage Higher Purchases.Hence a High Positive correlation of 0.089\n",
        "- The higher the discount usage the lower the return rate.This was indicated by the negative correlation of -0.039 between the `DiscountUsage` and `ReturnRate` columns.\n",
        "\n",
        "  \n",
        "**Loyalty Programs**\n",
        "\n",
        "The dataset indicates that the members of the Loyalty Program often times use the Discounts. This was indicated by the positive correlation of (0.66).Hence we can say, This column is well associated with the `DiscountUsage` column.\n",
        "\n",
        "\n",
        "**Ease Of Using Website**\n",
        "This had little effect on customers satisfaction but i feel if the ui/ux is improved it might have a good effect on the customers satisfaction.\n",
        "\n",
        "**Note** - I ensured taking volume into considweration when drawing conclusions from my heatmap . For Example Females are More than males so i should be careful drawing conclusions from the gender part."
      ]
    },
    {
      "cell_type": "code",
      "execution_count": null,
      "id": "1e253088-8e07-454c-9e51-0c6dd995a10b",
      "metadata": {
        "id": "1e253088-8e07-454c-9e51-0c6dd995a10b"
      },
      "outputs": [],
      "source": []
    }
  ],
  "metadata": {
    "kernelspec": {
      "display_name": "Python 3 (ipykernel)",
      "language": "python",
      "name": "python3"
    },
    "language_info": {
      "codemirror_mode": {
        "name": "ipython",
        "version": 3
      },
      "file_extension": ".py",
      "mimetype": "text/x-python",
      "name": "python",
      "nbconvert_exporter": "python",
      "pygments_lexer": "ipython3",
      "version": "3.12.6"
    },
    "colab": {
      "provenance": []
    }
  },
  "nbformat": 4,
  "nbformat_minor": 5
}