{
  "cells": [
    {
      "cell_type": "code",
      "execution_count": null,
      "id": "fd7b77de-3fbf-40fa-b6c3-3cd07b8f9f6b",
      "metadata": {
        "id": "fd7b77de-3fbf-40fa-b6c3-3cd07b8f9f6b"
      },
      "outputs": [],
      "source": [
        "# Importing required Libraries\n",
        "import pandas as pd\n",
        "import numpy as np\n",
        "\n",
        "import matplotlib.pyplot as plt\n",
        "import seaborn as sns\n",
        "\n",
        "from sklearn.preprocessing import  StandardScaler\n",
        "from sklearn.compose import ColumnTransformer\n",
        "from sklearn.pipeline import Pipeline\n",
        "\n",
        "from sklearn.cluster import KMeans\n",
        "from sklearn.decomposition import PCA\n",
        "from sklearn.metrics import silhouette_score"
      ]
    },
    {
      "cell_type": "markdown",
      "id": "39fbf18d-04c7-40f9-a6db-7a82d21d4afb",
      "metadata": {
        "id": "39fbf18d-04c7-40f9-a6db-7a82d21d4afb"
      },
      "source": [
        "### EDA"
      ]
    },
    {
      "cell_type": "code",
      "execution_count": null,
      "id": "767d603a-f914-43fd-80e2-655a6ed122c5",
      "metadata": {
        "scrolled": true,
        "id": "767d603a-f914-43fd-80e2-655a6ed122c5",
        "outputId": "908b3168-5244-49ad-ab24-c18317e03041"
      },
      "outputs": [
        {
          "data": {
            "text/html": [
              "<div>\n",
              "<style scoped>\n",
              "    .dataframe tbody tr th:only-of-type {\n",
              "        vertical-align: middle;\n",
              "    }\n",
              "\n",
              "    .dataframe tbody tr th {\n",
              "        vertical-align: top;\n",
              "    }\n",
              "\n",
              "    .dataframe thead th {\n",
              "        text-align: right;\n",
              "    }\n",
              "</style>\n",
              "<table border=\"1\" class=\"dataframe\">\n",
              "  <thead>\n",
              "    <tr style=\"text-align: right;\">\n",
              "      <th></th>\n",
              "      <th>CustomerID</th>\n",
              "      <th>Gender</th>\n",
              "      <th>Age</th>\n",
              "      <th>Annual Income (k$)</th>\n",
              "      <th>Spending Score (1-100)</th>\n",
              "    </tr>\n",
              "  </thead>\n",
              "  <tbody>\n",
              "    <tr>\n",
              "      <th>0</th>\n",
              "      <td>1</td>\n",
              "      <td>Male</td>\n",
              "      <td>19</td>\n",
              "      <td>15</td>\n",
              "      <td>39</td>\n",
              "    </tr>\n",
              "    <tr>\n",
              "      <th>1</th>\n",
              "      <td>2</td>\n",
              "      <td>Male</td>\n",
              "      <td>21</td>\n",
              "      <td>15</td>\n",
              "      <td>81</td>\n",
              "    </tr>\n",
              "    <tr>\n",
              "      <th>2</th>\n",
              "      <td>3</td>\n",
              "      <td>Female</td>\n",
              "      <td>20</td>\n",
              "      <td>16</td>\n",
              "      <td>6</td>\n",
              "    </tr>\n",
              "    <tr>\n",
              "      <th>3</th>\n",
              "      <td>4</td>\n",
              "      <td>Female</td>\n",
              "      <td>23</td>\n",
              "      <td>16</td>\n",
              "      <td>77</td>\n",
              "    </tr>\n",
              "    <tr>\n",
              "      <th>4</th>\n",
              "      <td>5</td>\n",
              "      <td>Female</td>\n",
              "      <td>31</td>\n",
              "      <td>17</td>\n",
              "      <td>40</td>\n",
              "    </tr>\n",
              "    <tr>\n",
              "      <th>...</th>\n",
              "      <td>...</td>\n",
              "      <td>...</td>\n",
              "      <td>...</td>\n",
              "      <td>...</td>\n",
              "      <td>...</td>\n",
              "    </tr>\n",
              "    <tr>\n",
              "      <th>195</th>\n",
              "      <td>196</td>\n",
              "      <td>Female</td>\n",
              "      <td>35</td>\n",
              "      <td>120</td>\n",
              "      <td>79</td>\n",
              "    </tr>\n",
              "    <tr>\n",
              "      <th>196</th>\n",
              "      <td>197</td>\n",
              "      <td>Female</td>\n",
              "      <td>45</td>\n",
              "      <td>126</td>\n",
              "      <td>28</td>\n",
              "    </tr>\n",
              "    <tr>\n",
              "      <th>197</th>\n",
              "      <td>198</td>\n",
              "      <td>Male</td>\n",
              "      <td>32</td>\n",
              "      <td>126</td>\n",
              "      <td>74</td>\n",
              "    </tr>\n",
              "    <tr>\n",
              "      <th>198</th>\n",
              "      <td>199</td>\n",
              "      <td>Male</td>\n",
              "      <td>32</td>\n",
              "      <td>137</td>\n",
              "      <td>18</td>\n",
              "    </tr>\n",
              "    <tr>\n",
              "      <th>199</th>\n",
              "      <td>200</td>\n",
              "      <td>Male</td>\n",
              "      <td>30</td>\n",
              "      <td>137</td>\n",
              "      <td>83</td>\n",
              "    </tr>\n",
              "  </tbody>\n",
              "</table>\n",
              "<p>200 rows × 5 columns</p>\n",
              "</div>"
            ],
            "text/plain": [
              "     CustomerID  Gender  Age  Annual Income (k$)  Spending Score (1-100)\n",
              "0             1    Male   19                  15                      39\n",
              "1             2    Male   21                  15                      81\n",
              "2             3  Female   20                  16                       6\n",
              "3             4  Female   23                  16                      77\n",
              "4             5  Female   31                  17                      40\n",
              "..          ...     ...  ...                 ...                     ...\n",
              "195         196  Female   35                 120                      79\n",
              "196         197  Female   45                 126                      28\n",
              "197         198    Male   32                 126                      74\n",
              "198         199    Male   32                 137                      18\n",
              "199         200    Male   30                 137                      83\n",
              "\n",
              "[200 rows x 5 columns]"
            ]
          },
          "execution_count": 90,
          "metadata": {},
          "output_type": "execute_result"
        }
      ],
      "source": [
        "df = pd.read_csv(r\"Mall_Customers.csv\")\n",
        "df"
      ]
    },
    {
      "cell_type": "code",
      "execution_count": null,
      "id": "9b347db1-d822-49f3-8bea-c73577195204",
      "metadata": {
        "id": "9b347db1-d822-49f3-8bea-c73577195204",
        "outputId": "d70d8ab8-1d00-4598-c0db-ac96cac29dec"
      },
      "outputs": [
        {
          "name": "stdout",
          "output_type": "stream",
          "text": [
            "<class 'pandas.core.frame.DataFrame'>\n",
            "RangeIndex: 200 entries, 0 to 199\n",
            "Data columns (total 5 columns):\n",
            " #   Column                  Non-Null Count  Dtype \n",
            "---  ------                  --------------  ----- \n",
            " 0   CustomerID              200 non-null    int64 \n",
            " 1   Gender                  200 non-null    object\n",
            " 2   Age                     200 non-null    int64 \n",
            " 3   Annual Income (k$)      200 non-null    int64 \n",
            " 4   Spending Score (1-100)  200 non-null    int64 \n",
            "dtypes: int64(4), object(1)\n",
            "memory usage: 7.9+ KB\n"
          ]
        }
      ],
      "source": [
        "df.info()"
      ]
    },
    {
      "cell_type": "code",
      "execution_count": null,
      "id": "202ffec8-0b5d-43c5-a00a-851c9922854c",
      "metadata": {
        "id": "202ffec8-0b5d-43c5-a00a-851c9922854c",
        "outputId": "1fa15d3e-a0bd-4e2b-b6db-06b453a7964a"
      },
      "outputs": [
        {
          "data": {
            "text/plain": [
              "CustomerID                0\n",
              "Gender                    0\n",
              "Age                       0\n",
              "Annual Income (k$)        0\n",
              "Spending Score (1-100)    0\n",
              "dtype: int64"
            ]
          },
          "execution_count": 92,
          "metadata": {},
          "output_type": "execute_result"
        }
      ],
      "source": [
        "# Checking for null values\n",
        "df.isnull().sum()"
      ]
    },
    {
      "cell_type": "code",
      "execution_count": null,
      "id": "f00b29fb-f7bd-4b32-b328-7f500bee0853",
      "metadata": {
        "id": "f00b29fb-f7bd-4b32-b328-7f500bee0853",
        "outputId": "331c7a57-4cfb-49c3-816b-674f163facbd"
      },
      "outputs": [
        {
          "data": {
            "text/plain": [
              "np.int64(0)"
            ]
          },
          "execution_count": 93,
          "metadata": {},
          "output_type": "execute_result"
        }
      ],
      "source": [
        "# Checking for duplicates\n",
        "df.duplicated().sum()"
      ]
    },
    {
      "cell_type": "code",
      "execution_count": null,
      "id": "8b57dba0-b4c5-4f92-ac77-edce4a4f7bbb",
      "metadata": {
        "id": "8b57dba0-b4c5-4f92-ac77-edce4a4f7bbb",
        "outputId": "cc9e6bfb-83de-4e53-9d11-eaaa71c906ae"
      },
      "outputs": [
        {
          "data": {
            "text/html": [
              "<div>\n",
              "<style scoped>\n",
              "    .dataframe tbody tr th:only-of-type {\n",
              "        vertical-align: middle;\n",
              "    }\n",
              "\n",
              "    .dataframe tbody tr th {\n",
              "        vertical-align: top;\n",
              "    }\n",
              "\n",
              "    .dataframe thead th {\n",
              "        text-align: right;\n",
              "    }\n",
              "</style>\n",
              "<table border=\"1\" class=\"dataframe\">\n",
              "  <thead>\n",
              "    <tr style=\"text-align: right;\">\n",
              "      <th></th>\n",
              "      <th>CustomerID</th>\n",
              "      <th>Age</th>\n",
              "      <th>Annual Income (k$)</th>\n",
              "      <th>Spending Score (1-100)</th>\n",
              "    </tr>\n",
              "  </thead>\n",
              "  <tbody>\n",
              "    <tr>\n",
              "      <th>count</th>\n",
              "      <td>200.000000</td>\n",
              "      <td>200.000000</td>\n",
              "      <td>200.000000</td>\n",
              "      <td>200.000000</td>\n",
              "    </tr>\n",
              "    <tr>\n",
              "      <th>mean</th>\n",
              "      <td>100.500000</td>\n",
              "      <td>38.850000</td>\n",
              "      <td>60.560000</td>\n",
              "      <td>50.200000</td>\n",
              "    </tr>\n",
              "    <tr>\n",
              "      <th>std</th>\n",
              "      <td>57.879185</td>\n",
              "      <td>13.969007</td>\n",
              "      <td>26.264721</td>\n",
              "      <td>25.823522</td>\n",
              "    </tr>\n",
              "    <tr>\n",
              "      <th>min</th>\n",
              "      <td>1.000000</td>\n",
              "      <td>18.000000</td>\n",
              "      <td>15.000000</td>\n",
              "      <td>1.000000</td>\n",
              "    </tr>\n",
              "    <tr>\n",
              "      <th>25%</th>\n",
              "      <td>50.750000</td>\n",
              "      <td>28.750000</td>\n",
              "      <td>41.500000</td>\n",
              "      <td>34.750000</td>\n",
              "    </tr>\n",
              "    <tr>\n",
              "      <th>50%</th>\n",
              "      <td>100.500000</td>\n",
              "      <td>36.000000</td>\n",
              "      <td>61.500000</td>\n",
              "      <td>50.000000</td>\n",
              "    </tr>\n",
              "    <tr>\n",
              "      <th>75%</th>\n",
              "      <td>150.250000</td>\n",
              "      <td>49.000000</td>\n",
              "      <td>78.000000</td>\n",
              "      <td>73.000000</td>\n",
              "    </tr>\n",
              "    <tr>\n",
              "      <th>max</th>\n",
              "      <td>200.000000</td>\n",
              "      <td>70.000000</td>\n",
              "      <td>137.000000</td>\n",
              "      <td>99.000000</td>\n",
              "    </tr>\n",
              "  </tbody>\n",
              "</table>\n",
              "</div>"
            ],
            "text/plain": [
              "       CustomerID         Age  Annual Income (k$)  Spending Score (1-100)\n",
              "count  200.000000  200.000000          200.000000              200.000000\n",
              "mean   100.500000   38.850000           60.560000               50.200000\n",
              "std     57.879185   13.969007           26.264721               25.823522\n",
              "min      1.000000   18.000000           15.000000                1.000000\n",
              "25%     50.750000   28.750000           41.500000               34.750000\n",
              "50%    100.500000   36.000000           61.500000               50.000000\n",
              "75%    150.250000   49.000000           78.000000               73.000000\n",
              "max    200.000000   70.000000          137.000000               99.000000"
            ]
          },
          "execution_count": 94,
          "metadata": {},
          "output_type": "execute_result"
        }
      ],
      "source": [
        "#Statistical Summary\n",
        "df.describe()"
      ]
    },
    {
      "cell_type": "code",
      "execution_count": null,
      "id": "a3453bfb-40f2-4b78-b111-8ef2416028b6",
      "metadata": {
        "id": "a3453bfb-40f2-4b78-b111-8ef2416028b6",
        "outputId": "be1b670e-ab4b-4e13-c276-5fe9b89a42b2"
      },
      "outputs": [
        {
          "data": {
            "text/html": [
              "<div>\n",
              "<style scoped>\n",
              "    .dataframe tbody tr th:only-of-type {\n",
              "        vertical-align: middle;\n",
              "    }\n",
              "\n",
              "    .dataframe tbody tr th {\n",
              "        vertical-align: top;\n",
              "    }\n",
              "\n",
              "    .dataframe thead th {\n",
              "        text-align: right;\n",
              "    }\n",
              "</style>\n",
              "<table border=\"1\" class=\"dataframe\">\n",
              "  <thead>\n",
              "    <tr style=\"text-align: right;\">\n",
              "      <th></th>\n",
              "      <th>Gender</th>\n",
              "    </tr>\n",
              "  </thead>\n",
              "  <tbody>\n",
              "    <tr>\n",
              "      <th>count</th>\n",
              "      <td>200</td>\n",
              "    </tr>\n",
              "    <tr>\n",
              "      <th>unique</th>\n",
              "      <td>2</td>\n",
              "    </tr>\n",
              "    <tr>\n",
              "      <th>top</th>\n",
              "      <td>Female</td>\n",
              "    </tr>\n",
              "    <tr>\n",
              "      <th>freq</th>\n",
              "      <td>112</td>\n",
              "    </tr>\n",
              "  </tbody>\n",
              "</table>\n",
              "</div>"
            ],
            "text/plain": [
              "        Gender\n",
              "count      200\n",
              "unique       2\n",
              "top     Female\n",
              "freq       112"
            ]
          },
          "execution_count": 95,
          "metadata": {},
          "output_type": "execute_result"
        }
      ],
      "source": [
        "df.describe(include = \"O\")"
      ]
    },
    {
      "cell_type": "markdown",
      "id": "7cac67ce-3a66-4d93-9690-5404628fe26d",
      "metadata": {
        "id": "7cac67ce-3a66-4d93-9690-5404628fe26d"
      },
      "source": [
        "#### Analysis of Gender, Age and Income Distribution Of Mall Customers"
      ]
    },
    {
      "cell_type": "code",
      "execution_count": null,
      "id": "9ef20caf-7831-4a0b-913f-f58ff7ed14f1",
      "metadata": {
        "id": "9ef20caf-7831-4a0b-913f-f58ff7ed14f1",
        "outputId": "92b6259e-a746-4111-af83-d56b4cad8311"
      },
      "outputs": [
        {
          "data": {
            "image/png": "[encoded data removed]",
            "text/plain": [
              "<Figure size 400x400 with 1 Axes>"
            ]
          },
          "metadata": {},
          "output_type": "display_data"
        }
      ],
      "source": [
        "#Visualizing Gender Distribution of Mall Customers\n",
        "plt.figure(figsize = (4,4))\n",
        "df[\"Gender\"].value_counts().plot(kind=\"pie\",autopct ='%1.1f%%',startangle=90, colors=['#5619f4','#4679f6'], explode=(0.1, 0), labels = df[\"Gender\"].value_counts().index)\n",
        "plt.title(\"Gender Distribution Of Mall Customers\",fontsize = 10, fontweight = 600)\n",
        "plt.ylabel(\"\")\n",
        "plt.show()"
      ]
    },
    {
      "cell_type": "code",
      "execution_count": null,
      "id": "f5f00aaa-5e88-4389-b4a1-421c14da7e1e",
      "metadata": {
        "id": "f5f00aaa-5e88-4389-b4a1-421c14da7e1e",
        "outputId": "d64733af-ba5c-4a73-b05d-f579d4d71189"
      },
      "outputs": [
        {
          "data": {
            "text/plain": [
              "51"
            ]
          },
          "execution_count": 97,
          "metadata": {},
          "output_type": "execute_result"
        }
      ],
      "source": [
        "# Checking Number of unique Ages.\n",
        "df[\"Age\"].nunique()"
      ]
    },
    {
      "cell_type": "code",
      "execution_count": null,
      "id": "3a76b7e4-42ef-49ae-9b71-a14496b130ae",
      "metadata": {
        "id": "3a76b7e4-42ef-49ae-9b71-a14496b130ae"
      },
      "outputs": [],
      "source": [
        "# Creating a temporary DF for analysis sake\n",
        "temp_df = df"
      ]
    },
    {
      "cell_type": "code",
      "execution_count": null,
      "id": "153c72b0-1102-4cc1-9325-4aa71ff3af88",
      "metadata": {
        "id": "153c72b0-1102-4cc1-9325-4aa71ff3af88"
      },
      "outputs": [],
      "source": [
        "# Defining a function that would assign name tags to the different age ranges.\n",
        "def age_grouper(age):\n",
        "    if age < 35:\n",
        "        return \"Young Adults\"\n",
        "    elif 34 < age < 55 :\n",
        "        return \"Adults\"\n",
        "    elif 54 < age < 70 :\n",
        "        return \"Older Adults\"\n",
        "\n",
        "# Creating a column that holds the age_group detail\n",
        "temp_df[\"AgeGroup\"] = temp_df[\"Age\"].apply(age_grouper)"
      ]
    },
    {
      "cell_type": "code",
      "execution_count": null,
      "id": "93e07358-de92-4f30-97d6-74373af58b6a",
      "metadata": {
        "id": "93e07358-de92-4f30-97d6-74373af58b6a",
        "outputId": "0c2f6a75-0b8d-4102-dbf9-d3af7da11143"
      },
      "outputs": [
        {
          "data": {
            "text/html": [
              "<div>\n",
              "<style scoped>\n",
              "    .dataframe tbody tr th:only-of-type {\n",
              "        vertical-align: middle;\n",
              "    }\n",
              "\n",
              "    .dataframe tbody tr th {\n",
              "        vertical-align: top;\n",
              "    }\n",
              "\n",
              "    .dataframe thead th {\n",
              "        text-align: right;\n",
              "    }\n",
              "</style>\n",
              "<table border=\"1\" class=\"dataframe\">\n",
              "  <thead>\n",
              "    <tr style=\"text-align: right;\">\n",
              "      <th></th>\n",
              "      <th>CustomerID</th>\n",
              "      <th>Gender</th>\n",
              "      <th>Annual Income (k$)</th>\n",
              "      <th>Spending Score (1-100)</th>\n",
              "      <th>AgeGroup</th>\n",
              "    </tr>\n",
              "  </thead>\n",
              "  <tbody>\n",
              "    <tr>\n",
              "      <th>0</th>\n",
              "      <td>1</td>\n",
              "      <td>Male</td>\n",
              "      <td>15</td>\n",
              "      <td>39</td>\n",
              "      <td>Young Adults</td>\n",
              "    </tr>\n",
              "    <tr>\n",
              "      <th>1</th>\n",
              "      <td>2</td>\n",
              "      <td>Male</td>\n",
              "      <td>15</td>\n",
              "      <td>81</td>\n",
              "      <td>Young Adults</td>\n",
              "    </tr>\n",
              "    <tr>\n",
              "      <th>2</th>\n",
              "      <td>3</td>\n",
              "      <td>Female</td>\n",
              "      <td>16</td>\n",
              "      <td>6</td>\n",
              "      <td>Young Adults</td>\n",
              "    </tr>\n",
              "    <tr>\n",
              "      <th>3</th>\n",
              "      <td>4</td>\n",
              "      <td>Female</td>\n",
              "      <td>16</td>\n",
              "      <td>77</td>\n",
              "      <td>Young Adults</td>\n",
              "    </tr>\n",
              "    <tr>\n",
              "      <th>4</th>\n",
              "      <td>5</td>\n",
              "      <td>Female</td>\n",
              "      <td>17</td>\n",
              "      <td>40</td>\n",
              "      <td>Young Adults</td>\n",
              "    </tr>\n",
              "  </tbody>\n",
              "</table>\n",
              "</div>"
            ],
            "text/plain": [
              "   CustomerID  Gender  Annual Income (k$)  Spending Score (1-100)  \\\n",
              "0           1    Male                  15                      39   \n",
              "1           2    Male                  15                      81   \n",
              "2           3  Female                  16                       6   \n",
              "3           4  Female                  16                      77   \n",
              "4           5  Female                  17                      40   \n",
              "\n",
              "       AgeGroup  \n",
              "0  Young Adults  \n",
              "1  Young Adults  \n",
              "2  Young Adults  \n",
              "3  Young Adults  \n",
              "4  Young Adults  "
            ]
          },
          "execution_count": 100,
          "metadata": {},
          "output_type": "execute_result"
        }
      ],
      "source": [
        "#Dropping the `Age` Column\n",
        "temp_df.drop(columns = \"Age\", inplace = True)\n",
        "\n",
        "temp_df.head()"
      ]
    },
    {
      "cell_type": "code",
      "execution_count": null,
      "id": "bbf00021-6038-4c60-a633-0dc5c185d80a",
      "metadata": {
        "id": "bbf00021-6038-4c60-a633-0dc5c185d80a",
        "outputId": "f88c81a3-cf77-4473-d163-faa20fe9003d"
      },
      "outputs": [
        {
          "data": {
            "text/plain": [
              "AgeGroup\n",
              "Young Adults    89\n",
              "Adults          81\n",
              "Older Adults    28\n",
              "Name: count, dtype: int64"
            ]
          },
          "execution_count": 101,
          "metadata": {},
          "output_type": "execute_result"
        }
      ],
      "source": [
        "age_df = df[\"AgeGroup\"].value_counts()\n",
        "age_df"
      ]
    },
    {
      "cell_type": "code",
      "execution_count": null,
      "id": "553cf152-2c87-45c7-871c-1968ce1d4a84",
      "metadata": {
        "id": "553cf152-2c87-45c7-871c-1968ce1d4a84",
        "outputId": "140b0b6f-1b35-44a3-cd88-a259318d03b0"
      },
      "outputs": [
        {
          "data": {
            "image/png": "[encoded data removed]",
            "text/plain": [
              "<Figure size 400x400 with 1 Axes>"
            ]
          },
          "metadata": {},
          "output_type": "display_data"
        }
      ],
      "source": [
        "#Visualizing Gender Distribution of Mall Customers\n",
        "plt.figure(figsize = (4,4))\n",
        "age_df.plot(kind=\"bar\", color='#4679f6' )\n",
        "plt.title(\"Age Distribution Of Mall Customers\", fontsize = 10,fontweight = 600)\n",
        "plt.ylabel(\"Frequency\",fontsize = 9)\n",
        "plt.xlabel(\"Age Group\", fontsize = 9)\n",
        "plt.xticks(rotation = 0, fontsize = 7)\n",
        "plt.yticks(fontsize = 7)\n",
        "plt.show()"
      ]
    },
    {
      "cell_type": "code",
      "execution_count": null,
      "id": "552fa5ed-e33a-4381-9fcd-03c6e0acfe71",
      "metadata": {
        "id": "552fa5ed-e33a-4381-9fcd-03c6e0acfe71"
      },
      "outputs": [],
      "source": [
        "# Defining a function that would assign name tags to the different Income ranges.\n",
        "def income_grouper(income):\n",
        "    if income < 40:\n",
        "        return \"Lower Class\"\n",
        "    elif 40 < income < 70 :\n",
        "        return \"Middle Class\"\n",
        "    elif 70 < income :\n",
        "        return \"First Class\"\n",
        "\n",
        "# Creating a column that holds the age_group detail\n",
        "temp_df[\"IncomeGroup\"] = temp_df[\"Annual Income (k$)\"].apply(income_grouper)"
      ]
    },
    {
      "cell_type": "code",
      "execution_count": null,
      "id": "44107756-e873-4185-b8c1-a4a0cd2174c7",
      "metadata": {
        "id": "44107756-e873-4185-b8c1-a4a0cd2174c7",
        "outputId": "2feaaab7-161f-46f7-9f66-0af84f70ccff"
      },
      "outputs": [
        {
          "data": {
            "image/png": "[encoded data removed]",
            "text/plain": [
              "<Figure size 400x400 with 1 Axes>"
            ]
          },
          "metadata": {},
          "output_type": "display_data"
        }
      ],
      "source": [
        "#Visualizing Wealth Distribution of Mall Customers\n",
        "plt.figure(figsize = (4,4))\n",
        "temp_df[\"IncomeGroup\"].value_counts().plot(kind=\"pie\",autopct ='%1.1f%%',startangle=90, colors=[\"#5019f4\",\"#3015f1\",\"#4079f6\"], labels = temp_df[\"IncomeGroup\"].value_counts().index)\n",
        "plt.title(\"Income Distribution Of Mall Customers\",fontsize = 10, fontweight = 600)\n",
        "plt.ylabel(\"\")\n",
        "plt.show()"
      ]
    },
    {
      "cell_type": "markdown",
      "id": "521ef931-6aff-438f-90fc-b25564ad5d40",
      "metadata": {
        "id": "521ef931-6aff-438f-90fc-b25564ad5d40"
      },
      "source": [
        "#### BIVARIATE EDA"
      ]
    },
    {
      "cell_type": "code",
      "execution_count": null,
      "id": "dd8f8337-357c-47e7-91b7-5dc76b330e6f",
      "metadata": {
        "id": "dd8f8337-357c-47e7-91b7-5dc76b330e6f",
        "outputId": "575bdf8c-ceb8-49c1-c539-a2cbdd3100dc"
      },
      "outputs": [
        {
          "data": {
            "text/html": [
              "<div>\n",
              "<style scoped>\n",
              "    .dataframe tbody tr th:only-of-type {\n",
              "        vertical-align: middle;\n",
              "    }\n",
              "\n",
              "    .dataframe tbody tr th {\n",
              "        vertical-align: top;\n",
              "    }\n",
              "\n",
              "    .dataframe thead th {\n",
              "        text-align: right;\n",
              "    }\n",
              "</style>\n",
              "<table border=\"1\" class=\"dataframe\">\n",
              "  <thead>\n",
              "    <tr style=\"text-align: right;\">\n",
              "      <th></th>\n",
              "      <th>Gender</th>\n",
              "      <th>Maximum_Income</th>\n",
              "      <th>Average_Income</th>\n",
              "      <th>Average_Spending_Score</th>\n",
              "      <th>Frequency</th>\n",
              "    </tr>\n",
              "  </thead>\n",
              "  <tbody>\n",
              "    <tr>\n",
              "      <th>0</th>\n",
              "      <td>Female</td>\n",
              "      <td>126</td>\n",
              "      <td>59.250000</td>\n",
              "      <td>51.526786</td>\n",
              "      <td>112</td>\n",
              "    </tr>\n",
              "    <tr>\n",
              "      <th>1</th>\n",
              "      <td>Male</td>\n",
              "      <td>137</td>\n",
              "      <td>62.227273</td>\n",
              "      <td>48.511364</td>\n",
              "      <td>88</td>\n",
              "    </tr>\n",
              "  </tbody>\n",
              "</table>\n",
              "</div>"
            ],
            "text/plain": [
              "   Gender  Maximum_Income  Average_Income  Average_Spending_Score  Frequency\n",
              "0  Female             126       59.250000               51.526786        112\n",
              "1    Male             137       62.227273               48.511364         88"
            ]
          },
          "execution_count": 105,
          "metadata": {},
          "output_type": "execute_result"
        }
      ],
      "source": [
        "gender_analysis = temp_df.groupby(by = \"Gender\", as_index = False).agg(\n",
        "    Maximum_Income = (\"Annual Income (k$)\",\"max\") ,\n",
        "    Average_Income = (\"Annual Income (k$)\",\"mean\") ,\n",
        "    Average_Spending_Score = (\"Spending Score (1-100)\",\"mean\") ,\n",
        "    Frequency = (\"CustomerID\", \"nunique\")\n",
        ")\n",
        "gender_analysis"
      ]
    },
    {
      "cell_type": "code",
      "execution_count": null,
      "id": "4c14a56f-e657-4f0a-90c5-904373c7a8da",
      "metadata": {
        "id": "4c14a56f-e657-4f0a-90c5-904373c7a8da",
        "outputId": "9893d3c1-4b0c-4a13-f84e-da4ab8dfa470"
      },
      "outputs": [
        {
          "data": {
            "text/html": [
              "<div>\n",
              "<style scoped>\n",
              "    .dataframe tbody tr th:only-of-type {\n",
              "        vertical-align: middle;\n",
              "    }\n",
              "\n",
              "    .dataframe tbody tr th {\n",
              "        vertical-align: top;\n",
              "    }\n",
              "\n",
              "    .dataframe thead th {\n",
              "        text-align: right;\n",
              "    }\n",
              "</style>\n",
              "<table border=\"1\" class=\"dataframe\">\n",
              "  <thead>\n",
              "    <tr style=\"text-align: right;\">\n",
              "      <th></th>\n",
              "      <th>AgeGroup</th>\n",
              "      <th>Maximum_Income</th>\n",
              "      <th>Average_Income</th>\n",
              "      <th>Average_Spending_Score</th>\n",
              "      <th>Frequency</th>\n",
              "    </tr>\n",
              "  </thead>\n",
              "  <tbody>\n",
              "    <tr>\n",
              "      <th>0</th>\n",
              "      <td>Adults</td>\n",
              "      <td>126</td>\n",
              "      <td>62.876543</td>\n",
              "      <td>43.074074</td>\n",
              "      <td>81</td>\n",
              "    </tr>\n",
              "    <tr>\n",
              "      <th>1</th>\n",
              "      <td>Older Adults</td>\n",
              "      <td>93</td>\n",
              "      <td>54.250000</td>\n",
              "      <td>37.857143</td>\n",
              "      <td>28</td>\n",
              "    </tr>\n",
              "    <tr>\n",
              "      <th>2</th>\n",
              "      <td>Young Adults</td>\n",
              "      <td>137</td>\n",
              "      <td>60.730337</td>\n",
              "      <td>60.449438</td>\n",
              "      <td>89</td>\n",
              "    </tr>\n",
              "  </tbody>\n",
              "</table>\n",
              "</div>"
            ],
            "text/plain": [
              "       AgeGroup  Maximum_Income  Average_Income  Average_Spending_Score  \\\n",
              "0        Adults             126       62.876543               43.074074   \n",
              "1  Older Adults              93       54.250000               37.857143   \n",
              "2  Young Adults             137       60.730337               60.449438   \n",
              "\n",
              "   Frequency  \n",
              "0         81  \n",
              "1         28  \n",
              "2         89  "
            ]
          },
          "execution_count": 106,
          "metadata": {},
          "output_type": "execute_result"
        }
      ],
      "source": [
        "age_group_analysis = temp_df.groupby(by = \"AgeGroup\", as_index = False).agg(\n",
        "    Maximum_Income = (\"Annual Income (k$)\",\"max\") ,\n",
        "    Average_Income = (\"Annual Income (k$)\",\"mean\") ,\n",
        "    Average_Spending_Score = (\"Spending Score (1-100)\",\"mean\") ,\n",
        "    Frequency = (\"CustomerID\", \"nunique\")\n",
        ")\n",
        "age_group_analysis"
      ]
    },
    {
      "cell_type": "code",
      "execution_count": null,
      "id": "8b6e6741-13d1-484d-81b2-07d9a6cb2382",
      "metadata": {
        "id": "8b6e6741-13d1-484d-81b2-07d9a6cb2382",
        "outputId": "8c7a30a7-8b44-4b09-ba3f-2f9bfe4c3eff"
      },
      "outputs": [
        {
          "data": {
            "image/png": "[encoded data removed]",
            "text/plain": [
              "<Figure size 500x400 with 1 Axes>"
            ]
          },
          "metadata": {},
          "output_type": "display_data"
        }
      ],
      "source": [
        "plt.figure(figsize = (5,4))\n",
        "sns.regplot(x=\"Annual Income (k$)\", y = \"Spending Score (1-100)\",data = temp_df)\n",
        "plt.title(\"Scatter Plot of Annual Income and The Spending Score \", fontsize = 10, fontweight = 550)\n",
        "plt.xlabel(\"Annual Income\",fontsize = 9)\n",
        "plt.ylabel(\"Spending Score\", fontsize = 9)\n",
        "plt.xticks( fontsize = 7)\n",
        "plt.yticks(fontsize = 7)\n",
        "plt.show()"
      ]
    },
    {
      "cell_type": "markdown",
      "id": "02977590-244b-40e9-9899-4fae246446fc",
      "metadata": {
        "id": "02977590-244b-40e9-9899-4fae246446fc"
      },
      "source": [
        "## Model Infrastructure"
      ]
    },
    {
      "cell_type": "code",
      "execution_count": null,
      "id": "4f26ca7d-6fea-40b9-9972-d6b500689813",
      "metadata": {
        "id": "4f26ca7d-6fea-40b9-9972-d6b500689813"
      },
      "outputs": [],
      "source": [
        "# Feature Selection\n",
        "df_edit = df[[\"Annual Income (k$)\",\"Spending Score (1-100)\"]]"
      ]
    },
    {
      "cell_type": "code",
      "execution_count": null,
      "id": "a177798b-633c-4b6a-9a3a-22baceada98c",
      "metadata": {
        "id": "a177798b-633c-4b6a-9a3a-22baceada98c"
      },
      "outputs": [],
      "source": [
        "# Constructing a column transformer for the sake of preprocessing.\n",
        "col_transform  = ColumnTransformer([\n",
        "    ('numerical_transform', StandardScaler(), [\"Annual Income (k$)\",\"Spending Score (1-100)\"])\n",
        "], n_jobs = -1)"
      ]
    },
    {
      "cell_type": "code",
      "execution_count": null,
      "id": "2fbdc18b-0044-4036-b593-c89a8994b556",
      "metadata": {
        "id": "2fbdc18b-0044-4036-b593-c89a8994b556"
      },
      "outputs": [],
      "source": [
        "# Constructing a model pipeline\n",
        "pipeline = Pipeline([(\"preprocessor\",col_transform),(\"clustering\", KMeans(n_clusters = 3, random_state = 42 ))] )"
      ]
    },
    {
      "cell_type": "code",
      "execution_count": null,
      "id": "ddc902db-5667-40dd-883b-3c958afe4a5b",
      "metadata": {
        "id": "ddc902db-5667-40dd-883b-3c958afe4a5b",
        "outputId": "344131ab-f269-4b71-d0f9-d09217646b69"
      },
      "outputs": [
        {
          "data": {
            "text/html": [
              "<style>#sk-container-id-2 {\n",
              "  /* Definition of color scheme common for light and dark mode */\n",
              "  --sklearn-color-text: black;\n",
              "  --sklearn-color-line: gray;\n",
              "  /* Definition of color scheme for unfitted estimators */\n",
              "  --sklearn-color-unfitted-level-0: #fff5e6;\n",
              "  --sklearn-color-unfitted-level-1: #f6e4d2;\n",
              "  --sklearn-color-unfitted-level-2: #ffe0b3;\n",
              "  --sklearn-color-unfitted-level-3: chocolate;\n",
              "  /* Definition of color scheme for fitted estimators */\n",
              "  --sklearn-color-fitted-level-0: #f0f8ff;\n",
              "  --sklearn-color-fitted-level-1: #d4ebff;\n",
              "  --sklearn-color-fitted-level-2: #b3dbfd;\n",
              "  --sklearn-color-fitted-level-3: cornflowerblue;\n",
              "\n",
              "  /* Specific color for light theme */\n",
              "  --sklearn-color-text-on-default-background: var(--sg-text-color, var(--theme-code-foreground, var(--jp-content-font-color1, black)));\n",
              "  --sklearn-color-background: var(--sg-background-color, var(--theme-background, var(--jp-layout-color0, white)));\n",
              "  --sklearn-color-border-box: var(--sg-text-color, var(--theme-code-foreground, var(--jp-content-font-color1, black)));\n",
              "  --sklearn-color-icon: #696969;\n",
              "\n",
              "  @media (prefers-color-scheme: dark) {\n",
              "    /* Redefinition of color scheme for dark theme */\n",
              "    --sklearn-color-text-on-default-background: var(--sg-text-color, var(--theme-code-foreground, var(--jp-content-font-color1, white)));\n",
              "    --sklearn-color-background: var(--sg-background-color, var(--theme-background, var(--jp-layout-color0, #111)));\n",
              "    --sklearn-color-border-box: var(--sg-text-color, var(--theme-code-foreground, var(--jp-content-font-color1, white)));\n",
              "    --sklearn-color-icon: #878787;\n",
              "  }\n",
              "}\n",
              "\n",
              "#sk-container-id-2 {\n",
              "  color: var(--sklearn-color-text);\n",
              "}\n",
              "\n",
              "#sk-container-id-2 pre {\n",
              "  padding: 0;\n",
              "}\n",
              "\n",
              "#sk-container-id-2 input.sk-hidden--visually {\n",
              "  border: 0;\n",
              "  clip: rect(1px 1px 1px 1px);\n",
              "  clip: rect(1px, 1px, 1px, 1px);\n",
              "  height: 1px;\n",
              "  margin: -1px;\n",
              "  overflow: hidden;\n",
              "  padding: 0;\n",
              "  position: absolute;\n",
              "  width: 1px;\n",
              "}\n",
              "\n",
              "#sk-container-id-2 div.sk-dashed-wrapped {\n",
              "  border: 1px dashed var(--sklearn-color-line);\n",
              "  margin: 0 0.4em 0.5em 0.4em;\n",
              "  box-sizing: border-box;\n",
              "  padding-bottom: 0.4em;\n",
              "  background-color: var(--sklearn-color-background);\n",
              "}\n",
              "\n",
              "#sk-container-id-2 div.sk-container {\n",
              "  /* jupyter's `normalize.less` sets `[hidden] { display: none; }`\n",
              "     but bootstrap.min.css set `[hidden] { display: none !important; }`\n",
              "     so we also need the `!important` here to be able to override the\n",
              "     default hidden behavior on the sphinx rendered scikit-learn.org.\n",
              "     See: https://github.com/scikit-learn/scikit-learn/issues/21755 */\n",
              "  display: inline-block !important;\n",
              "  position: relative;\n",
              "}\n",
              "\n",
              "#sk-container-id-2 div.sk-text-repr-fallback {\n",
              "  display: none;\n",
              "}\n",
              "\n",
              "div.sk-parallel-item,\n",
              "div.sk-serial,\n",
              "div.sk-item {\n",
              "  /* draw centered vertical line to link estimators */\n",
              "  background-image: linear-gradient(var(--sklearn-color-text-on-default-background), var(--sklearn-color-text-on-default-background));\n",
              "  background-size: 2px 100%;\n",
              "  background-repeat: no-repeat;\n",
              "  background-position: center center;\n",
              "}\n",
              "\n",
              "/* Parallel-specific style estimator block */\n",
              "\n",
              "#sk-container-id-2 div.sk-parallel-item::after {\n",
              "  content: \"\";\n",
              "  width: 100%;\n",
              "  border-bottom: 2px solid var(--sklearn-color-text-on-default-background);\n",
              "  flex-grow: 1;\n",
              "}\n",
              "\n",
              "#sk-container-id-2 div.sk-parallel {\n",
              "  display: flex;\n",
              "  align-items: stretch;\n",
              "  justify-content: center;\n",
              "  background-color: var(--sklearn-color-background);\n",
              "  position: relative;\n",
              "}\n",
              "\n",
              "#sk-container-id-2 div.sk-parallel-item {\n",
              "  display: flex;\n",
              "  flex-direction: column;\n",
              "}\n",
              "\n",
              "#sk-container-id-2 div.sk-parallel-item:first-child::after {\n",
              "  align-self: flex-end;\n",
              "  width: 50%;\n",
              "}\n",
              "\n",
              "#sk-container-id-2 div.sk-parallel-item:last-child::after {\n",
              "  align-self: flex-start;\n",
              "  width: 50%;\n",
              "}\n",
              "\n",
              "#sk-container-id-2 div.sk-parallel-item:only-child::after {\n",
              "  width: 0;\n",
              "}\n",
              "\n",
              "/* Serial-specific style estimator block */\n",
              "\n",
              "#sk-container-id-2 div.sk-serial {\n",
              "  display: flex;\n",
              "  flex-direction: column;\n",
              "  align-items: center;\n",
              "  background-color: var(--sklearn-color-background);\n",
              "  padding-right: 1em;\n",
              "  padding-left: 1em;\n",
              "}\n",
              "\n",
              "\n",
              "/* Toggleable style: style used for estimator/Pipeline/ColumnTransformer box that is\n",
              "clickable and can be expanded/collapsed.\n",
              "- Pipeline and ColumnTransformer use this feature and define the default style\n",
              "- Estimators will overwrite some part of the style using the `sk-estimator` class\n",
              "*/\n",
              "\n",
              "/* Pipeline and ColumnTransformer style (default) */\n",
              "\n",
              "#sk-container-id-2 div.sk-toggleable {\n",
              "  /* Default theme specific background. It is overwritten whether we have a\n",
              "  specific estimator or a Pipeline/ColumnTransformer */\n",
              "  background-color: var(--sklearn-color-background);\n",
              "}\n",
              "\n",
              "/* Toggleable label */\n",
              "#sk-container-id-2 label.sk-toggleable__label {\n",
              "  cursor: pointer;\n",
              "  display: block;\n",
              "  width: 100%;\n",
              "  margin-bottom: 0;\n",
              "  padding: 0.5em;\n",
              "  box-sizing: border-box;\n",
              "  text-align: center;\n",
              "}\n",
              "\n",
              "#sk-container-id-2 label.sk-toggleable__label-arrow:before {\n",
              "  /* Arrow on the left of the label */\n",
              "  content: \"▸\";\n",
              "  float: left;\n",
              "  margin-right: 0.25em;\n",
              "  color: var(--sklearn-color-icon);\n",
              "}\n",
              "\n",
              "#sk-container-id-2 label.sk-toggleable__label-arrow:hover:before {\n",
              "  color: var(--sklearn-color-text);\n",
              "}\n",
              "\n",
              "/* Toggleable content - dropdown */\n",
              "\n",
              "#sk-container-id-2 div.sk-toggleable__content {\n",
              "  max-height: 0;\n",
              "  max-width: 0;\n",
              "  overflow: hidden;\n",
              "  text-align: left;\n",
              "  /* unfitted */\n",
              "  background-color: var(--sklearn-color-unfitted-level-0);\n",
              "}\n",
              "\n",
              "#sk-container-id-2 div.sk-toggleable__content.fitted {\n",
              "  /* fitted */\n",
              "  background-color: var(--sklearn-color-fitted-level-0);\n",
              "}\n",
              "\n",
              "#sk-container-id-2 div.sk-toggleable__content pre {\n",
              "  margin: 0.2em;\n",
              "  border-radius: 0.25em;\n",
              "  color: var(--sklearn-color-text);\n",
              "  /* unfitted */\n",
              "  background-color: var(--sklearn-color-unfitted-level-0);\n",
              "}\n",
              "\n",
              "#sk-container-id-2 div.sk-toggleable__content.fitted pre {\n",
              "  /* unfitted */\n",
              "  background-color: var(--sklearn-color-fitted-level-0);\n",
              "}\n",
              "\n",
              "#sk-container-id-2 input.sk-toggleable__control:checked~div.sk-toggleable__content {\n",
              "  /* Expand drop-down */\n",
              "  max-height: 200px;\n",
              "  max-width: 100%;\n",
              "  overflow: auto;\n",
              "}\n",
              "\n",
              "#sk-container-id-2 input.sk-toggleable__control:checked~label.sk-toggleable__label-arrow:before {\n",
              "  content: \"▾\";\n",
              "}\n",
              "\n",
              "/* Pipeline/ColumnTransformer-specific style */\n",
              "\n",
              "#sk-container-id-2 div.sk-label input.sk-toggleable__control:checked~label.sk-toggleable__label {\n",
              "  color: var(--sklearn-color-text);\n",
              "  background-color: var(--sklearn-color-unfitted-level-2);\n",
              "}\n",
              "\n",
              "#sk-container-id-2 div.sk-label.fitted input.sk-toggleable__control:checked~label.sk-toggleable__label {\n",
              "  background-color: var(--sklearn-color-fitted-level-2);\n",
              "}\n",
              "\n",
              "/* Estimator-specific style */\n",
              "\n",
              "/* Colorize estimator box */\n",
              "#sk-container-id-2 div.sk-estimator input.sk-toggleable__control:checked~label.sk-toggleable__label {\n",
              "  /* unfitted */\n",
              "  background-color: var(--sklearn-color-unfitted-level-2);\n",
              "}\n",
              "\n",
              "#sk-container-id-2 div.sk-estimator.fitted input.sk-toggleable__control:checked~label.sk-toggleable__label {\n",
              "  /* fitted */\n",
              "  background-color: var(--sklearn-color-fitted-level-2);\n",
              "}\n",
              "\n",
              "#sk-container-id-2 div.sk-label label.sk-toggleable__label,\n",
              "#sk-container-id-2 div.sk-label label {\n",
              "  /* The background is the default theme color */\n",
              "  color: var(--sklearn-color-text-on-default-background);\n",
              "}\n",
              "\n",
              "/* On hover, darken the color of the background */\n",
              "#sk-container-id-2 div.sk-label:hover label.sk-toggleable__label {\n",
              "  color: var(--sklearn-color-text);\n",
              "  background-color: var(--sklearn-color-unfitted-level-2);\n",
              "}\n",
              "\n",
              "/* Label box, darken color on hover, fitted */\n",
              "#sk-container-id-2 div.sk-label.fitted:hover label.sk-toggleable__label.fitted {\n",
              "  color: var(--sklearn-color-text);\n",
              "  background-color: var(--sklearn-color-fitted-level-2);\n",
              "}\n",
              "\n",
              "/* Estimator label */\n",
              "\n",
              "#sk-container-id-2 div.sk-label label {\n",
              "  font-family: monospace;\n",
              "  font-weight: bold;\n",
              "  display: inline-block;\n",
              "  line-height: 1.2em;\n",
              "}\n",
              "\n",
              "#sk-container-id-2 div.sk-label-container {\n",
              "  text-align: center;\n",
              "}\n",
              "\n",
              "/* Estimator-specific */\n",
              "#sk-container-id-2 div.sk-estimator {\n",
              "  font-family: monospace;\n",
              "  border: 1px dotted var(--sklearn-color-border-box);\n",
              "  border-radius: 0.25em;\n",
              "  box-sizing: border-box;\n",
              "  margin-bottom: 0.5em;\n",
              "  /* unfitted */\n",
              "  background-color: var(--sklearn-color-unfitted-level-0);\n",
              "}\n",
              "\n",
              "#sk-container-id-2 div.sk-estimator.fitted {\n",
              "  /* fitted */\n",
              "  background-color: var(--sklearn-color-fitted-level-0);\n",
              "}\n",
              "\n",
              "/* on hover */\n",
              "#sk-container-id-2 div.sk-estimator:hover {\n",
              "  /* unfitted */\n",
              "  background-color: var(--sklearn-color-unfitted-level-2);\n",
              "}\n",
              "\n",
              "#sk-container-id-2 div.sk-estimator.fitted:hover {\n",
              "  /* fitted */\n",
              "  background-color: var(--sklearn-color-fitted-level-2);\n",
              "}\n",
              "\n",
              "/* Specification for estimator info (e.g. \"i\" and \"?\") */\n",
              "\n",
              "/* Common style for \"i\" and \"?\" */\n",
              "\n",
              ".sk-estimator-doc-link,\n",
              "a:link.sk-estimator-doc-link,\n",
              "a:visited.sk-estimator-doc-link {\n",
              "  float: right;\n",
              "  font-size: smaller;\n",
              "  line-height: 1em;\n",
              "  font-family: monospace;\n",
              "  background-color: var(--sklearn-color-background);\n",
              "  border-radius: 1em;\n",
              "  height: 1em;\n",
              "  width: 1em;\n",
              "  text-decoration: none !important;\n",
              "  margin-left: 1ex;\n",
              "  /* unfitted */\n",
              "  border: var(--sklearn-color-unfitted-level-1) 1pt solid;\n",
              "  color: var(--sklearn-color-unfitted-level-1);\n",
              "}\n",
              "\n",
              ".sk-estimator-doc-link.fitted,\n",
              "a:link.sk-estimator-doc-link.fitted,\n",
              "a:visited.sk-estimator-doc-link.fitted {\n",
              "  /* fitted */\n",
              "  border: var(--sklearn-color-fitted-level-1) 1pt solid;\n",
              "  color: var(--sklearn-color-fitted-level-1);\n",
              "}\n",
              "\n",
              "/* On hover */\n",
              "div.sk-estimator:hover .sk-estimator-doc-link:hover,\n",
              ".sk-estimator-doc-link:hover,\n",
              "div.sk-label-container:hover .sk-estimator-doc-link:hover,\n",
              ".sk-estimator-doc-link:hover {\n",
              "  /* unfitted */\n",
              "  background-color: var(--sklearn-color-unfitted-level-3);\n",
              "  color: var(--sklearn-color-background);\n",
              "  text-decoration: none;\n",
              "}\n",
              "\n",
              "div.sk-estimator.fitted:hover .sk-estimator-doc-link.fitted:hover,\n",
              ".sk-estimator-doc-link.fitted:hover,\n",
              "div.sk-label-container:hover .sk-estimator-doc-link.fitted:hover,\n",
              ".sk-estimator-doc-link.fitted:hover {\n",
              "  /* fitted */\n",
              "  background-color: var(--sklearn-color-fitted-level-3);\n",
              "  color: var(--sklearn-color-background);\n",
              "  text-decoration: none;\n",
              "}\n",
              "\n",
              "/* Span, style for the box shown on hovering the info icon */\n",
              ".sk-estimator-doc-link span {\n",
              "  display: none;\n",
              "  z-index: 9999;\n",
              "  position: relative;\n",
              "  font-weight: normal;\n",
              "  right: .2ex;\n",
              "  padding: .5ex;\n",
              "  margin: .5ex;\n",
              "  width: min-content;\n",
              "  min-width: 20ex;\n",
              "  max-width: 50ex;\n",
              "  color: var(--sklearn-color-text);\n",
              "  box-shadow: 2pt 2pt 4pt #999;\n",
              "  /* unfitted */\n",
              "  background: var(--sklearn-color-unfitted-level-0);\n",
              "  border: .5pt solid var(--sklearn-color-unfitted-level-3);\n",
              "}\n",
              "\n",
              ".sk-estimator-doc-link.fitted span {\n",
              "  /* fitted */\n",
              "  background: var(--sklearn-color-fitted-level-0);\n",
              "  border: var(--sklearn-color-fitted-level-3);\n",
              "}\n",
              "\n",
              ".sk-estimator-doc-link:hover span {\n",
              "  display: block;\n",
              "}\n",
              "\n",
              "/* \"?\"-specific style due to the `<a>` HTML tag */\n",
              "\n",
              "#sk-container-id-2 a.estimator_doc_link {\n",
              "  float: right;\n",
              "  font-size: 1rem;\n",
              "  line-height: 1em;\n",
              "  font-family: monospace;\n",
              "  background-color: var(--sklearn-color-background);\n",
              "  border-radius: 1rem;\n",
              "  height: 1rem;\n",
              "  width: 1rem;\n",
              "  text-decoration: none;\n",
              "  /* unfitted */\n",
              "  color: var(--sklearn-color-unfitted-level-1);\n",
              "  border: var(--sklearn-color-unfitted-level-1) 1pt solid;\n",
              "}\n",
              "\n",
              "#sk-container-id-2 a.estimator_doc_link.fitted {\n",
              "  /* fitted */\n",
              "  border: var(--sklearn-color-fitted-level-1) 1pt solid;\n",
              "  color: var(--sklearn-color-fitted-level-1);\n",
              "}\n",
              "\n",
              "/* On hover */\n",
              "#sk-container-id-2 a.estimator_doc_link:hover {\n",
              "  /* unfitted */\n",
              "  background-color: var(--sklearn-color-unfitted-level-3);\n",
              "  color: var(--sklearn-color-background);\n",
              "  text-decoration: none;\n",
              "}\n",
              "\n",
              "#sk-container-id-2 a.estimator_doc_link.fitted:hover {\n",
              "  /* fitted */\n",
              "  background-color: var(--sklearn-color-fitted-level-3);\n",
              "}\n",
              "</style><div id=\"sk-container-id-2\" class=\"sk-top-container\"><div class=\"sk-text-repr-fallback\"><pre>Pipeline(steps=[(&#x27;preprocessor&#x27;,\n",
              "                 ColumnTransformer(n_jobs=-1,\n",
              "                                   transformers=[(&#x27;numerical_transform&#x27;,\n",
              "                                                  StandardScaler(),\n",
              "                                                  [&#x27;Annual Income (k$)&#x27;,\n",
              "                                                   &#x27;Spending Score &#x27;\n",
              "                                                   &#x27;(1-100)&#x27;])])),\n",
              "                (&#x27;clustering&#x27;, KMeans(n_clusters=3, random_state=42))])</pre><b>In a Jupyter environment, please rerun this cell to show the HTML representation or trust the notebook. <br />On GitHub, the HTML representation is unable to render, please try loading this page with nbviewer.org.</b></div><div class=\"sk-container\" hidden><div class=\"sk-item sk-dashed-wrapped\"><div class=\"sk-label-container\"><div class=\"sk-label fitted sk-toggleable\"><input class=\"sk-toggleable__control sk-hidden--visually\" id=\"sk-estimator-id-6\" type=\"checkbox\" ><label for=\"sk-estimator-id-6\" class=\"sk-toggleable__label fitted sk-toggleable__label-arrow fitted\">&nbsp;&nbsp;Pipeline<a class=\"sk-estimator-doc-link fitted\" rel=\"noreferrer\" target=\"_blank\" href=\"https://scikit-learn.org/1.5/modules/generated/sklearn.pipeline.Pipeline.html\">?<span>Documentation for Pipeline</span></a><span class=\"sk-estimator-doc-link fitted\">i<span>Fitted</span></span></label><div class=\"sk-toggleable__content fitted\"><pre>Pipeline(steps=[(&#x27;preprocessor&#x27;,\n",
              "                 ColumnTransformer(n_jobs=-1,\n",
              "                                   transformers=[(&#x27;numerical_transform&#x27;,\n",
              "                                                  StandardScaler(),\n",
              "                                                  [&#x27;Annual Income (k$)&#x27;,\n",
              "                                                   &#x27;Spending Score &#x27;\n",
              "                                                   &#x27;(1-100)&#x27;])])),\n",
              "                (&#x27;clustering&#x27;, KMeans(n_clusters=3, random_state=42))])</pre></div> </div></div><div class=\"sk-serial\"><div class=\"sk-item sk-dashed-wrapped\"><div class=\"sk-label-container\"><div class=\"sk-label fitted sk-toggleable\"><input class=\"sk-toggleable__control sk-hidden--visually\" id=\"sk-estimator-id-7\" type=\"checkbox\" ><label for=\"sk-estimator-id-7\" class=\"sk-toggleable__label fitted sk-toggleable__label-arrow fitted\">&nbsp;preprocessor: ColumnTransformer<a class=\"sk-estimator-doc-link fitted\" rel=\"noreferrer\" target=\"_blank\" href=\"https://scikit-learn.org/1.5/modules/generated/sklearn.compose.ColumnTransformer.html\">?<span>Documentation for preprocessor: ColumnTransformer</span></a></label><div class=\"sk-toggleable__content fitted\"><pre>ColumnTransformer(n_jobs=-1,\n",
              "                  transformers=[(&#x27;numerical_transform&#x27;, StandardScaler(),\n",
              "                                 [&#x27;Annual Income (k$)&#x27;,\n",
              "                                  &#x27;Spending Score (1-100)&#x27;])])</pre></div> </div></div><div class=\"sk-parallel\"><div class=\"sk-parallel-item\"><div class=\"sk-item\"><div class=\"sk-label-container\"><div class=\"sk-label fitted sk-toggleable\"><input class=\"sk-toggleable__control sk-hidden--visually\" id=\"sk-estimator-id-8\" type=\"checkbox\" ><label for=\"sk-estimator-id-8\" class=\"sk-toggleable__label fitted sk-toggleable__label-arrow fitted\">numerical_transform</label><div class=\"sk-toggleable__content fitted\"><pre>[&#x27;Annual Income (k$)&#x27;, &#x27;Spending Score (1-100)&#x27;]</pre></div> </div></div><div class=\"sk-serial\"><div class=\"sk-item\"><div class=\"sk-estimator fitted sk-toggleable\"><input class=\"sk-toggleable__control sk-hidden--visually\" id=\"sk-estimator-id-9\" type=\"checkbox\" ><label for=\"sk-estimator-id-9\" class=\"sk-toggleable__label fitted sk-toggleable__label-arrow fitted\">&nbsp;StandardScaler<a class=\"sk-estimator-doc-link fitted\" rel=\"noreferrer\" target=\"_blank\" href=\"https://scikit-learn.org/1.5/modules/generated/sklearn.preprocessing.StandardScaler.html\">?<span>Documentation for StandardScaler</span></a></label><div class=\"sk-toggleable__content fitted\"><pre>StandardScaler()</pre></div> </div></div></div></div></div></div></div><div class=\"sk-item\"><div class=\"sk-estimator fitted sk-toggleable\"><input class=\"sk-toggleable__control sk-hidden--visually\" id=\"sk-estimator-id-10\" type=\"checkbox\" ><label for=\"sk-estimator-id-10\" class=\"sk-toggleable__label fitted sk-toggleable__label-arrow fitted\">&nbsp;KMeans<a class=\"sk-estimator-doc-link fitted\" rel=\"noreferrer\" target=\"_blank\" href=\"https://scikit-learn.org/1.5/modules/generated/sklearn.cluster.KMeans.html\">?<span>Documentation for KMeans</span></a></label><div class=\"sk-toggleable__content fitted\"><pre>KMeans(n_clusters=3, random_state=42)</pre></div> </div></div></div></div></div></div>"
            ],
            "text/plain": [
              "Pipeline(steps=[('preprocessor',\n",
              "                 ColumnTransformer(n_jobs=-1,\n",
              "                                   transformers=[('numerical_transform',\n",
              "                                                  StandardScaler(),\n",
              "                                                  ['Annual Income (k$)',\n",
              "                                                   'Spending Score '\n",
              "                                                   '(1-100)'])])),\n",
              "                ('clustering', KMeans(n_clusters=3, random_state=42))])"
            ]
          },
          "execution_count": 111,
          "metadata": {},
          "output_type": "execute_result"
        }
      ],
      "source": [
        "# Fitting the DataFrame into the pipeline\n",
        "pipeline.fit(df_edit)"
      ]
    },
    {
      "cell_type": "code",
      "execution_count": null,
      "id": "cf2bfbde-4166-451a-a64f-c6cd6b03cac7",
      "metadata": {
        "id": "cf2bfbde-4166-451a-a64f-c6cd6b03cac7"
      },
      "outputs": [],
      "source": [
        "# Retrieving Processor from the pipeline\n",
        "preprocessor = pipeline[\"preprocessor\"]\n",
        "\n",
        "# Creating a scaled df\n",
        "prepro_df = preprocessor.fit_transform(df_edit)"
      ]
    },
    {
      "cell_type": "code",
      "execution_count": null,
      "id": "4d2d3c07-f988-4e8e-a9c9-1f1c34190ebb",
      "metadata": {
        "id": "4d2d3c07-f988-4e8e-a9c9-1f1c34190ebb"
      },
      "outputs": [],
      "source": [
        "# Getting the inertias for different number of clusters\n",
        "inertia = []\n",
        "shilloute_scores = []\n",
        "k_values  = range(2,11)\n",
        "\n",
        "for k in k_values :\n",
        "    kmeans = KMeans(n_clusters = k, random_state = 42)\n",
        "    pipeline.set_params(clustering = kmeans)\n",
        "    cluster_labels = pipeline.fit_predict(df_edit)\n",
        "    shilouette_score = silhouette_score(prepro_df, cluster_labels)\n",
        "    shilloute_scores.append(shilouette_score)\n",
        "    inertia.append(pipeline.named_steps[\"clustering\"].inertia_)"
      ]
    },
    {
      "cell_type": "code",
      "execution_count": null,
      "id": "b5d4eaf3-1671-4f00-a30c-7b3b056354f7",
      "metadata": {
        "id": "b5d4eaf3-1671-4f00-a30c-7b3b056354f7",
        "outputId": "b19d5a5a-75b3-43f2-d709-41350eb76990"
      },
      "outputs": [
        {
          "data": {
            "image/png": "[encoded data removed]",
            "text/plain": [
              "<Figure size 1400x600 with 2 Axes>"
            ]
          },
          "metadata": {},
          "output_type": "display_data"
        }
      ],
      "source": [
        "# Plotting the Elbow curve to deduce the optimal number of clusters.\n",
        "plt.figure(figsize = (14,6))\n",
        "\n",
        "plt.subplot(1,2,1)\n",
        "plt.plot(k_values, inertia, marker =\"o\",linestyle = \"--\", color = \"#4679f6\")\n",
        "plt.title(\"Elbow method for optimal k\")\n",
        "plt.xlabel(\"Number of clusters(k)\")\n",
        "plt.ylabel(\"Inertia\")\n",
        "plt.grid(True)\n",
        "\n",
        "plt.subplot(1,2,2)\n",
        "plt.plot(k_values, shilloute_scores, marker =\"o\",linestyle = \"--\", color = \"#5619f4\")\n",
        "plt.title(\"Silhoutte Scores for Different K-Cluster Values\")\n",
        "plt.xlabel(\"Number of clusters(k)\")\n",
        "plt.ylabel(\"Silhoutte Score\")\n",
        "plt.grid(True)\n",
        "\n",
        "plt.tight_layout()\n",
        "plt.show()"
      ]
    },
    {
      "cell_type": "code",
      "execution_count": null,
      "id": "9a838eb8-5016-482d-80aa-78d13f95d7f5",
      "metadata": {
        "id": "9a838eb8-5016-482d-80aa-78d13f95d7f5"
      },
      "outputs": [],
      "source": [
        "# Predicting the clusters.\n",
        "kmeans = KMeans(n_clusters =5, init = \"k-means++\", random_state = 42)\n",
        "pipeline.set_params(clustering = kmeans)\n",
        "df[\"kmeans_cluster\"] = pipeline.fit_predict(df_edit)"
      ]
    },
    {
      "cell_type": "code",
      "execution_count": null,
      "id": "e852de21-8032-476b-add3-b825f3287796",
      "metadata": {
        "id": "e852de21-8032-476b-add3-b825f3287796",
        "outputId": "531bbb5e-7fa0-4b58-9328-f1dc1f7695a3"
      },
      "outputs": [
        {
          "name": "stdout",
          "output_type": "stream",
          "text": [
            "Shilouette score :0.555\n"
          ]
        }
      ],
      "source": [
        "# Model Evaluation\n",
        "shilouette_avg = silhouette_score(prepro_df, df[\"kmeans_cluster\"])\n",
        "print(f\"Shilouette score :{shilouette_avg:.3f}\")"
      ]
    },
    {
      "cell_type": "code",
      "execution_count": null,
      "id": "a5a2da4f-d0a7-4190-8611-8cba92a2425e",
      "metadata": {
        "id": "a5a2da4f-d0a7-4190-8611-8cba92a2425e",
        "outputId": "1abf9959-b458-4710-c3de-b2776c83cea2"
      },
      "outputs": [
        {
          "data": {
            "image/png": "[encoded data removed]",
            "text/plain": [
              "<Figure size 800x600 with 1 Axes>"
            ]
          },
          "metadata": {},
          "output_type": "display_data"
        }
      ],
      "source": [
        "plt.figure(figsize = (8,6))\n",
        "sns.scatterplot(x = df[\"Annual Income (k$)\"],y= df[\"Spending Score (1-100)\"] ,hue=df[\"kmeans_cluster\"], palette = \"viridis\")\n",
        "plt.title(\"Plot of Clusters\", fontsize = 10, fontweight = 550)\n",
        "plt.xlabel(\"Annual Income (k$)\",fontsize = 9)\n",
        "plt.ylabel(\"Spending Score (1-100)\", fontsize = 9)\n",
        "plt.xticks( fontsize = 7)\n",
        "plt.yticks(fontsize = 7)\n",
        "plt.show()"
      ]
    },
    {
      "cell_type": "code",
      "execution_count": null,
      "id": "dbb6d301-12ee-4915-99de-d4f679a36064",
      "metadata": {
        "id": "dbb6d301-12ee-4915-99de-d4f679a36064"
      },
      "outputs": [],
      "source": [
        "df[\"kmeans_cluster\"] = df[\"kmeans_cluster\"].replace({0:\"Engage\",1:\"Retain\",2:\"Manage\",3:\"Encourage\",4:\"Assist\"})"
      ]
    },
    {
      "cell_type": "code",
      "execution_count": null,
      "id": "1dc1a7bc-2427-48af-9d63-6f561f78c45d",
      "metadata": {
        "id": "1dc1a7bc-2427-48af-9d63-6f561f78c45d",
        "outputId": "c41ec166-48e2-4d31-9052-803ab47ec740"
      },
      "outputs": [
        {
          "data": {
            "text/html": [
              "<div>\n",
              "<style scoped>\n",
              "    .dataframe tbody tr th:only-of-type {\n",
              "        vertical-align: middle;\n",
              "    }\n",
              "\n",
              "    .dataframe tbody tr th {\n",
              "        vertical-align: top;\n",
              "    }\n",
              "\n",
              "    .dataframe thead th {\n",
              "        text-align: right;\n",
              "    }\n",
              "</style>\n",
              "<table border=\"1\" class=\"dataframe\">\n",
              "  <thead>\n",
              "    <tr style=\"text-align: right;\">\n",
              "      <th></th>\n",
              "      <th>CustomerID</th>\n",
              "      <th>Gender</th>\n",
              "      <th>Annual Income (k$)</th>\n",
              "      <th>Spending Score (1-100)</th>\n",
              "      <th>AgeGroup</th>\n",
              "      <th>IncomeGroup</th>\n",
              "    </tr>\n",
              "    <tr>\n",
              "      <th>kmeans_cluster</th>\n",
              "      <th></th>\n",
              "      <th></th>\n",
              "      <th></th>\n",
              "      <th></th>\n",
              "      <th></th>\n",
              "      <th></th>\n",
              "    </tr>\n",
              "  </thead>\n",
              "  <tbody>\n",
              "    <tr>\n",
              "      <th>Assist</th>\n",
              "      <td>23</td>\n",
              "      <td>23</td>\n",
              "      <td>23</td>\n",
              "      <td>23</td>\n",
              "      <td>23</td>\n",
              "      <td>23</td>\n",
              "    </tr>\n",
              "    <tr>\n",
              "      <th>Encourage</th>\n",
              "      <td>35</td>\n",
              "      <td>35</td>\n",
              "      <td>35</td>\n",
              "      <td>35</td>\n",
              "      <td>35</td>\n",
              "      <td>34</td>\n",
              "    </tr>\n",
              "    <tr>\n",
              "      <th>Engage</th>\n",
              "      <td>81</td>\n",
              "      <td>81</td>\n",
              "      <td>81</td>\n",
              "      <td>81</td>\n",
              "      <td>79</td>\n",
              "      <td>77</td>\n",
              "    </tr>\n",
              "    <tr>\n",
              "      <th>Manage</th>\n",
              "      <td>22</td>\n",
              "      <td>22</td>\n",
              "      <td>22</td>\n",
              "      <td>22</td>\n",
              "      <td>22</td>\n",
              "      <td>22</td>\n",
              "    </tr>\n",
              "    <tr>\n",
              "      <th>Retain</th>\n",
              "      <td>39</td>\n",
              "      <td>39</td>\n",
              "      <td>39</td>\n",
              "      <td>39</td>\n",
              "      <td>39</td>\n",
              "      <td>38</td>\n",
              "    </tr>\n",
              "  </tbody>\n",
              "</table>\n",
              "</div>"
            ],
            "text/plain": [
              "                CustomerID  Gender  Annual Income (k$)  \\\n",
              "kmeans_cluster                                           \n",
              "Assist                  23      23                  23   \n",
              "Encourage               35      35                  35   \n",
              "Engage                  81      81                  81   \n",
              "Manage                  22      22                  22   \n",
              "Retain                  39      39                  39   \n",
              "\n",
              "                Spending Score (1-100)  AgeGroup  IncomeGroup  \n",
              "kmeans_cluster                                                 \n",
              "Assist                              23        23           23  \n",
              "Encourage                           35        35           34  \n",
              "Engage                              81        79           77  \n",
              "Manage                              22        22           22  \n",
              "Retain                              39        39           38  "
            ]
          },
          "execution_count": 119,
          "metadata": {},
          "output_type": "execute_result"
        }
      ],
      "source": [
        "df.groupby(\"kmeans_cluster\").count()"
      ]
    },
    {
      "cell_type": "markdown",
      "id": "a62171dc-cf68-469f-9b4f-f92ea01d5b39",
      "metadata": {
        "id": "a62171dc-cf68-469f-9b4f-f92ea01d5b39"
      },
      "source": [
        "## Report\n",
        "--------\n",
        "**Customer Demographics**\n",
        "- **Gender Distribution** : There was more female patrons(`56%`) than male(`44%`)\n",
        "- **Age Distribution** : `Young Adults(18-35)` were 89 in number, closely followed by `Adults(35-55)` which were 81 and `Older Adults(55-70)` were just 28 in number.\n",
        "- **Income Distribution** : `First Class Earners(Above $70k)` and `Middle class Earners(Between $40k t0 $70k)` equally shared 76.2% of the customer base, while Lower Class Earners(Below $40k) accounted for 23.7% of the base.\n",
        "\n",
        "--------\n",
        "**Model Description**\n",
        "- **Model Selection** : I used a `KMeans` Clustering Model\n",
        "- **Model Features** : I used the `Annual Income (k$)` and `Spending Score (1-100)` as the model features\n",
        "- **Optimal K selection** : I used the `inertia vs k_clusters(Elbow Method)` `and silhoutte_score vs k_clusters` as the basis for determining the optimal number of clusters. With an `inertia` between `(50-75)` and `silhoutte_score` of `0.555` I chose the cluster number 5. since it had a low inertia and a high silhoutte score. I personally think 5 is a resonable number when it comes to customer segmentation (human behaviour varies - it turned out i was right)\n",
        "- **Model Evaluation** : `silhoutte_score` of `0.555`\n",
        "  \n",
        "--------\n",
        "**Cluster Description**\n",
        "- **Cluster 0 (Engage)** - These set of customers are mid-range earners(earning between `$40-$70`) who spend within their means. They account for more than 40%(81 of the customers) of the customer base. They seem more stable hence, we should try our best to keep up with product qauality and affordability, this way nothing would derail their behaviour.\n",
        "- **Cluster 1 (Retain)** : These set of customers contribute very much to the mall earnings and they do all these within their means, which indicates that they are premium members which we must by all means retain.\n",
        "- **Cluster 2 (Manage)** - These set of customers are low earners, who spend big. This might be risky and we will need programs and actions that can help them continue in their patronage without us putting them in a finacial bondage.\n",
        "- **Cluster 3 (Encourage)** - These set of customers are high earners who spend less. We might need to implement actions that would spur them to buy more. e.g Special Deals e.t.c\n",
        "- **Cluster 4 (Assist)** - These customers are low earners and they also spend within their means. We could help their purchasing power by providing them with more affordable options.\n",
        "\n",
        "--------\n",
        "**NOTE**\n",
        "- **`temp_df`** : A copy of the original dataframe that i used for my analysis\n",
        "--------\n",
        "### Thank You !"
      ]
    }
  ],
  "metadata": {
    "kernelspec": {
      "display_name": "Python 3 (ipykernel)",
      "language": "python",
      "name": "python3"
    },
    "language_info": {
      "codemirror_mode": {
        "name": "ipython",
        "version": 3
      },
      "file_extension": ".py",
      "mimetype": "text/x-python",
      "name": "python",
      "nbconvert_exporter": "python",
      "pygments_lexer": "ipython3",
      "version": "3.12.6"
    },
    "colab": {
      "provenance": []
    }
  },
  "nbformat": 4,
  "nbformat_minor": 5
}